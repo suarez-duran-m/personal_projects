{
 "cells": [
  {
   "cell_type": "markdown",
   "id": "b378aad3",
   "metadata": {},
   "source": [
    "# Colombia seimic global stats\n",
    "(1st June, 1993 to 31st May, 2023)"
   ]
  },
  {
   "cell_type": "code",
   "execution_count": 1,
   "id": "258a078a",
   "metadata": {},
   "outputs": [],
   "source": [
    "import folium\n",
    "import numpy as np\n",
    "import pandas as pd\n",
    "from pytz import timezone\n",
    "import matplotlib.pyplot as plt"
   ]
  },
  {
   "cell_type": "markdown",
   "id": "a1a13fa0",
   "metadata": {},
   "source": [
    "## Data source \n",
    "\n",
    "The data was downloaded form Servicio geológico colombiano, http://bdrsnc.sgc.gov.co/paginas1/catalogo/index.php and splited in 14 files: \"reporte???.xlsx\" and then cleaned by using the notebook in:\n",
    "\n",
    "https://github.com/suarez-duran-m/personal_projects/blob/main/seismic/seismic_global_stats.ipynb"
   ]
  },
  {
   "cell_type": "code",
   "execution_count": 2,
   "id": "3b15c684",
   "metadata": {},
   "outputs": [],
   "source": [
    "data_seismic = pd.read_excel('data/seismic_1st_jan_93_to_31st_may_23.xlsx')"
   ]
  },
  {
   "cell_type": "code",
   "execution_count": 3,
   "id": "05f81cc8",
   "metadata": {},
   "outputs": [
    {
     "data": {
      "text/html": [
       "<div>\n",
       "<style scoped>\n",
       "    .dataframe tbody tr th:only-of-type {\n",
       "        vertical-align: middle;\n",
       "    }\n",
       "\n",
       "    .dataframe tbody tr th {\n",
       "        vertical-align: top;\n",
       "    }\n",
       "\n",
       "    .dataframe thead th {\n",
       "        text-align: right;\n",
       "    }\n",
       "</style>\n",
       "<table border=\"1\" class=\"dataframe\">\n",
       "  <thead>\n",
       "    <tr style=\"text-align: right;\">\n",
       "      <th></th>\n",
       "      <th>LAT</th>\n",
       "      <th>LONG</th>\n",
       "      <th>PROF.</th>\n",
       "      <th>MAGNITUD</th>\n",
       "      <th>DEPARTAMENTO</th>\n",
       "      <th>MUNICIPIO</th>\n",
       "      <th>ERR-LAT</th>\n",
       "      <th>ERR-LONG</th>\n",
       "      <th>ERR-PROF</th>\n",
       "      <th>ESTADO</th>\n",
       "      <th>FECHA - HORA UTC</th>\n",
       "    </tr>\n",
       "  </thead>\n",
       "  <tbody>\n",
       "    <tr>\n",
       "      <th>0</th>\n",
       "      <td>6.798</td>\n",
       "      <td>-73.099</td>\n",
       "      <td>143.5</td>\n",
       "      <td>1.5</td>\n",
       "      <td>SANTANDER</td>\n",
       "      <td>LOS SANTOS</td>\n",
       "      <td>7.1</td>\n",
       "      <td>7.0</td>\n",
       "      <td>8.5</td>\n",
       "      <td>Revisado</td>\n",
       "      <td>2017-01-01 00:56:54</td>\n",
       "    </tr>\n",
       "    <tr>\n",
       "      <th>1</th>\n",
       "      <td>6.749</td>\n",
       "      <td>-73.169</td>\n",
       "      <td>150.0</td>\n",
       "      <td>1.4</td>\n",
       "      <td>SANTANDER</td>\n",
       "      <td>LOS SANTOS</td>\n",
       "      <td>4.9</td>\n",
       "      <td>4.5</td>\n",
       "      <td>5.8</td>\n",
       "      <td>Revisado</td>\n",
       "      <td>2017-01-01 01:32:32</td>\n",
       "    </tr>\n",
       "    <tr>\n",
       "      <th>2</th>\n",
       "      <td>6.772</td>\n",
       "      <td>-73.119</td>\n",
       "      <td>144.5</td>\n",
       "      <td>1.9</td>\n",
       "      <td>SANTANDER</td>\n",
       "      <td>LOS SANTOS</td>\n",
       "      <td>3.7</td>\n",
       "      <td>4.3</td>\n",
       "      <td>6.1</td>\n",
       "      <td>Revisado</td>\n",
       "      <td>2017-01-01 01:44:47</td>\n",
       "    </tr>\n",
       "    <tr>\n",
       "      <th>3</th>\n",
       "      <td>6.803</td>\n",
       "      <td>-73.139</td>\n",
       "      <td>145.1</td>\n",
       "      <td>2.0</td>\n",
       "      <td>SANTANDER</td>\n",
       "      <td>LOS SANTOS</td>\n",
       "      <td>3.0</td>\n",
       "      <td>3.0</td>\n",
       "      <td>4.3</td>\n",
       "      <td>Revisado</td>\n",
       "      <td>2017-01-01 01:51:27</td>\n",
       "    </tr>\n",
       "    <tr>\n",
       "      <th>4</th>\n",
       "      <td>6.777</td>\n",
       "      <td>-73.116</td>\n",
       "      <td>143.5</td>\n",
       "      <td>1.6</td>\n",
       "      <td>SANTANDER</td>\n",
       "      <td>LOS SANTOS</td>\n",
       "      <td>5.5</td>\n",
       "      <td>5.5</td>\n",
       "      <td>6.4</td>\n",
       "      <td>Revisado</td>\n",
       "      <td>2017-01-01 02:45:22</td>\n",
       "    </tr>\n",
       "  </tbody>\n",
       "</table>\n",
       "</div>"
      ],
      "text/plain": [
       "     LAT    LONG  PROF.  MAGNITUD DEPARTAMENTO   MUNICIPIO  ERR-LAT  ERR-LONG  \\\n",
       "0  6.798 -73.099  143.5       1.5    SANTANDER  LOS SANTOS      7.1       7.0   \n",
       "1  6.749 -73.169  150.0       1.4    SANTANDER  LOS SANTOS      4.9       4.5   \n",
       "2  6.772 -73.119  144.5       1.9    SANTANDER  LOS SANTOS      3.7       4.3   \n",
       "3  6.803 -73.139  145.1       2.0    SANTANDER  LOS SANTOS      3.0       3.0   \n",
       "4  6.777 -73.116  143.5       1.6    SANTANDER  LOS SANTOS      5.5       5.5   \n",
       "\n",
       "   ERR-PROF    ESTADO     FECHA - HORA UTC  \n",
       "0       8.5  Revisado  2017-01-01 00:56:54  \n",
       "1       5.8  Revisado  2017-01-01 01:32:32  \n",
       "2       6.1  Revisado  2017-01-01 01:44:47  \n",
       "3       4.3  Revisado  2017-01-01 01:51:27  \n",
       "4       6.4  Revisado  2017-01-01 02:45:22  "
      ]
     },
     "execution_count": 3,
     "metadata": {},
     "output_type": "execute_result"
    }
   ],
   "source": [
    "data_seismic.head()"
   ]
  },
  {
   "cell_type": "markdown",
   "id": "34ed0b5a",
   "metadata": {},
   "source": [
    "## Seismic geolocalization "
   ]
  },
  {
   "cell_type": "markdown",
   "id": "156ac290",
   "metadata": {},
   "source": [
    "Filtering seismic by magnitude"
   ]
  },
  {
   "cell_type": "code",
   "execution_count": 35,
   "id": "8eb5f192",
   "metadata": {},
   "outputs": [],
   "source": [
    "data_filtered_long = data_seismic[data_seismic['LONG'] > -77.6]\n",
    "\n",
    "# Filter events with magnitude between 5.0 and 5.5\n",
    "seismic_magBig_5_55 = data_filtered_long[(data_filtered_long['MAGNITUD'] >= 5.) & (data_filtered_long['MAGNITUD'] < 5.5)]\n",
    "# Filter events with magnitude between 5.5 and 6.0\n",
    "seismic_magBig_55_6 = data_filtered_long[(data_filtered_long['MAGNITUD'] >= 5.5) & (data_filtered_long['MAGNITUD'] < 6.0)]\n",
    "# Filter events with magnitude between 5.5 and 6.0\n",
    "seismic_magBig_6 = data_filtered_long[(data_filtered_long['MAGNITUD'] >= 6) & (data_filtered_long['PROF.'] > 100)]\n",
    "\n",
    "#Filter eventts with magnitude bigger than 5.0\n",
    "seismic_magBig_5 = data_filtered_long[(data_filtered_long['MAGNITUD'] >= 5)]"
   ]
  },
  {
   "cell_type": "markdown",
   "id": "f0b1f762",
   "metadata": {},
   "source": [
    "### Locating seismic on map"
   ]
  },
  {
   "cell_type": "code",
   "execution_count": 5,
   "id": "e78dc072",
   "metadata": {},
   "outputs": [],
   "source": [
    "# Create a map centered on a specific location\n",
    "map = folium.Map(location=[seismic_magBig_6['LAT'].mean(), seismic_magBig_6['LONG'].mean()], zoom_start=6)\n",
    "\n",
    "# Add markers for each event\n",
    "for _, row in seismic_magBig_5_55.iterrows():\n",
    "    folium.Marker(\n",
    "        location=[row['LAT'], row['LONG']],\n",
    "        popup=f\"Magnitude: {row['MAGNITUD']}<br>Municipio: {row['MUNICIPIO']}<br>Date: {row['FECHA - HORA UTC']}<br>Prof.: {row['PROF.']}\",\n",
    "        icon=folium.Icon(color='blue', icon='info-sign')\n",
    "    ).add_to(map)\n",
    "    \n",
    "for _, row in seismic_magBig_55_6.iterrows():\n",
    "    folium.Marker(\n",
    "        location=[row['LAT'], row['LONG']],\n",
    "        popup=f\"Magnitude: {row['MAGNITUD']}<br>Municipio: {row['MUNICIPIO']}<br>Date: {row['FECHA - HORA UTC']}<br>Prof.: {row['PROF.']}\",\n",
    "        icon=folium.Icon(color='red', icon='info-sign')\n",
    "    ).add_to(map)\n",
    "    \n",
    "for _, row in seismic_magBig_6.iterrows():\n",
    "    folium.Marker(\n",
    "        location=[row['LAT'], row['LONG']],\n",
    "        popup=f\"Magnitude: {row['MAGNITUD']}<br>Municipio: {row['MUNICIPIO']}<br>Date: {row['FECHA - HORA UTC']}<br>Prof.: {row['PROF.']}\",\n",
    "        icon=folium.Icon(color='black', icon='info-sign')\n",
    "    ).add_to(map)\n",
    "    \n",
    "\n",
    "# Display the map\n",
    "map.save('map.html')  # Save the map as an HTML file"
   ]
  },
  {
   "cell_type": "markdown",
   "id": "810d68d6",
   "metadata": {},
   "source": [
    "## Checking for correlation between seismic and temperature \n",
    "\n",
    "### Data collection \n",
    "\n",
    "The temperature measurements was collected from \"Colombia, datos abiertos\":  \n",
    "https://www.datos.gov.co/Ambiente-y-Desarrollo-Sostenible/temperatura-bucaramanga/7zu2-qewy\n",
    "\n"
   ]
  },
  {
   "cell_type": "code",
   "execution_count": 156,
   "id": "1f6a1d70",
   "metadata": {},
   "outputs": [
    {
     "data": {
      "text/html": [
       "<div>\n",
       "<style scoped>\n",
       "    .dataframe tbody tr th:only-of-type {\n",
       "        vertical-align: middle;\n",
       "    }\n",
       "\n",
       "    .dataframe tbody tr th {\n",
       "        vertical-align: top;\n",
       "    }\n",
       "\n",
       "    .dataframe thead th {\n",
       "        text-align: right;\n",
       "    }\n",
       "</style>\n",
       "<table border=\"1\" class=\"dataframe\">\n",
       "  <thead>\n",
       "    <tr style=\"text-align: right;\">\n",
       "      <th></th>\n",
       "      <th>CodigoEstacion</th>\n",
       "      <th>CodigoSensor</th>\n",
       "      <th>FechaObservacion</th>\n",
       "      <th>ValorObservado</th>\n",
       "      <th>NombreEstacion</th>\n",
       "      <th>Departamento</th>\n",
       "      <th>Municipio</th>\n",
       "      <th>ZonaHidrografica</th>\n",
       "      <th>Latitud</th>\n",
       "      <th>Longitud</th>\n",
       "      <th>DescripcionSensor</th>\n",
       "      <th>UnidadMedida</th>\n",
       "    </tr>\n",
       "  </thead>\n",
       "  <tbody>\n",
       "    <tr>\n",
       "      <th>0</th>\n",
       "      <td>23195230</td>\n",
       "      <td>68</td>\n",
       "      <td>01/21/2020 02:00:00 PM</td>\n",
       "      <td>28.6</td>\n",
       "      <td>NEOMUNDO - AUT</td>\n",
       "      <td>SANTANDER</td>\n",
       "      <td>BUCARAMANGA</td>\n",
       "      <td>MEDIO MAGDALENA</td>\n",
       "      <td>7.102611</td>\n",
       "      <td>-73.107306</td>\n",
       "      <td>Temp Aire 2 m</td>\n",
       "      <td>°C</td>\n",
       "    </tr>\n",
       "    <tr>\n",
       "      <th>1</th>\n",
       "      <td>23195230</td>\n",
       "      <td>68</td>\n",
       "      <td>01/21/2020 08:00:00 PM</td>\n",
       "      <td>22.7</td>\n",
       "      <td>NEOMUNDO - AUT</td>\n",
       "      <td>SANTANDER</td>\n",
       "      <td>BUCARAMANGA</td>\n",
       "      <td>MEDIO MAGDALENA</td>\n",
       "      <td>7.102611</td>\n",
       "      <td>-73.107306</td>\n",
       "      <td>Temp Aire 2 m</td>\n",
       "      <td>°C</td>\n",
       "    </tr>\n",
       "    <tr>\n",
       "      <th>2</th>\n",
       "      <td>23195230</td>\n",
       "      <td>68</td>\n",
       "      <td>01/21/2020 09:00:00 PM</td>\n",
       "      <td>22.7</td>\n",
       "      <td>NEOMUNDO - AUT</td>\n",
       "      <td>SANTANDER</td>\n",
       "      <td>BUCARAMANGA</td>\n",
       "      <td>MEDIO MAGDALENA</td>\n",
       "      <td>7.102611</td>\n",
       "      <td>-73.107306</td>\n",
       "      <td>Temp Aire 2 m</td>\n",
       "      <td>°C</td>\n",
       "    </tr>\n",
       "  </tbody>\n",
       "</table>\n",
       "</div>"
      ],
      "text/plain": [
       "   CodigoEstacion  CodigoSensor        FechaObservacion  ValorObservado  \\\n",
       "0        23195230            68  01/21/2020 02:00:00 PM            28.6   \n",
       "1        23195230            68  01/21/2020 08:00:00 PM            22.7   \n",
       "2        23195230            68  01/21/2020 09:00:00 PM            22.7   \n",
       "\n",
       "   NombreEstacion Departamento    Municipio ZonaHidrografica   Latitud  \\\n",
       "0  NEOMUNDO - AUT    SANTANDER  BUCARAMANGA  MEDIO MAGDALENA  7.102611   \n",
       "1  NEOMUNDO - AUT    SANTANDER  BUCARAMANGA  MEDIO MAGDALENA  7.102611   \n",
       "2  NEOMUNDO - AUT    SANTANDER  BUCARAMANGA  MEDIO MAGDALENA  7.102611   \n",
       "\n",
       "    Longitud DescripcionSensor UnidadMedida  \n",
       "0 -73.107306     Temp Aire 2 m           °C  \n",
       "1 -73.107306     Temp Aire 2 m           °C  \n",
       "2 -73.107306     Temp Aire 2 m           °C  "
      ]
     },
     "execution_count": 156,
     "metadata": {},
     "output_type": "execute_result"
    }
   ],
   "source": [
    "data_temp = pd.read_csv('data/temperatura_bucaramanga.csv')\n",
    "data_temp.head(3)"
   ]
  },
  {
   "cell_type": "markdown",
   "id": "92ac17ff",
   "metadata": {},
   "source": [
    "### Checking for NaN values"
   ]
  },
  {
   "cell_type": "code",
   "execution_count": 193,
   "id": "f8764c93",
   "metadata": {},
   "outputs": [
    {
     "name": "stdout",
     "output_type": "stream",
     "text": [
      "CodigoEstacion       0\n",
      "CodigoSensor         0\n",
      "FechaObservacion     0\n",
      "Temperature          0\n",
      "NombreEstacion       0\n",
      "Departamento         0\n",
      "Municipio            0\n",
      "ZonaHidrografica     0\n",
      "Latitud              0\n",
      "Longitud             0\n",
      "DescripcionSensor    0\n",
      "UnidadMedida         0\n",
      "dtype: int64\n"
     ]
    }
   ],
   "source": [
    "# Changin column name\n",
    "data_temp.rename(columns={'ValorObservado': 'Temperature'}, inplace=True)\n",
    "\n",
    "print(data_temp.isna().sum())"
   ]
  },
  {
   "cell_type": "markdown",
   "id": "9c106d57",
   "metadata": {},
   "source": [
    "Filtering by FechaObservacion and ValorObservado, and converting to *datatime* format"
   ]
  },
  {
   "cell_type": "code",
   "execution_count": 215,
   "id": "51d00513",
   "metadata": {},
   "outputs": [
    {
     "name": "stdout",
     "output_type": "stream",
     "text": [
      "Temperature    0\n",
      "Date           0\n",
      "dtype: int64 \n",
      " 165220\n"
     ]
    },
    {
     "data": {
      "text/html": [
       "<div>\n",
       "<style scoped>\n",
       "    .dataframe tbody tr th:only-of-type {\n",
       "        vertical-align: middle;\n",
       "    }\n",
       "\n",
       "    .dataframe tbody tr th {\n",
       "        vertical-align: top;\n",
       "    }\n",
       "\n",
       "    .dataframe thead th {\n",
       "        text-align: right;\n",
       "    }\n",
       "</style>\n",
       "<table border=\"1\" class=\"dataframe\">\n",
       "  <thead>\n",
       "    <tr style=\"text-align: right;\">\n",
       "      <th></th>\n",
       "      <th>Date</th>\n",
       "      <th>Temperature</th>\n",
       "    </tr>\n",
       "  </thead>\n",
       "  <tbody>\n",
       "    <tr>\n",
       "      <th>0</th>\n",
       "      <td>2005-07-26</td>\n",
       "      <td>18.400000</td>\n",
       "    </tr>\n",
       "    <tr>\n",
       "      <th>1</th>\n",
       "      <td>2005-07-27</td>\n",
       "      <td>17.275000</td>\n",
       "    </tr>\n",
       "    <tr>\n",
       "      <th>2</th>\n",
       "      <td>2005-07-28</td>\n",
       "      <td>17.717391</td>\n",
       "    </tr>\n",
       "  </tbody>\n",
       "</table>\n",
       "</div>"
      ],
      "text/plain": [
       "        Date  Temperature\n",
       "0 2005-07-26    18.400000\n",
       "1 2005-07-27    17.275000\n",
       "2 2005-07-28    17.717391"
      ]
     },
     "execution_count": 215,
     "metadata": {},
     "output_type": "execute_result"
    }
   ],
   "source": [
    "tmp_temp = data_temp[['FechaObservacion', 'Temperature']].copy()\n",
    "tmp_temp['Date'] = pd.to_datetime(tmp_temp['FechaObservacion'], format='%m/%d/%Y %I:%M:%S %p')\n",
    "tmp_temp.drop(columns='FechaObservacion', inplace=True)\n",
    "\n",
    "print(tmp_temp.isna().sum(), '\\n', tmp_temp.size)\n",
    "tmp_temp.set_index('Date', inplace=True)\n",
    "temp_daily_avg = tmp_temp.resample('D').mean()\n",
    "temp_daily_avg = temp_daily_avg.reset_index()\n",
    "temp_daily_avg.head(3)"
   ]
  },
  {
   "cell_type": "code",
   "execution_count": 218,
   "id": "a7e7c465",
   "metadata": {},
   "outputs": [],
   "source": [
    "#tmp_temp.reset_index(inplace=True)\n",
    "tmp = tmp_temp[tmp_temp['Date'].dt.date == pd.to_datetime('2005-07-28').date()]"
   ]
  },
  {
   "cell_type": "code",
   "execution_count": 219,
   "id": "78eb0fb7",
   "metadata": {},
   "outputs": [
    {
     "name": "stdout",
     "output_type": "stream",
     "text": [
      "                     Date  Temperature\n",
      "2585  2005-07-28 23:00:00         15.8\n",
      "3105  2005-07-28 16:00:00         20.2\n",
      "7738  2005-07-28 09:00:00         18.7\n",
      "8210  2005-07-28 20:00:00         17.3\n",
      "9337  2005-07-28 11:00:00         18.8\n",
      "9349  2005-07-28 17:00:00         19.4\n",
      "14455 2005-07-28 05:00:00         14.7\n",
      "16065 2005-07-28 00:00:00         16.1\n",
      "16888 2005-07-28 19:00:00         17.9\n",
      "18120 2005-07-28 06:00:00         14.8\n",
      "20269 2005-07-28 21:00:00         16.7\n",
      "20502 2005-07-28 01:00:00         15.6\n",
      "23322 2005-07-28 08:00:00         15.6\n",
      "23654 2005-07-28 14:00:00         22.5\n",
      "24033 2005-07-28 02:00:00         15.4\n",
      "26893 2005-07-28 15:00:00         21.1\n",
      "26987 2005-07-28 13:00:00         22.4\n",
      "29328 2005-07-28 12:00:00         21.1\n",
      "32560 2005-07-28 10:00:00         17.9\n",
      "37020 2005-07-28 04:00:00         15.3\n",
      "37385 2005-07-28 03:00:00         15.4\n",
      "40135 2005-07-28 22:00:00         16.3\n",
      "57939 2005-07-28 18:00:00         18.5\n",
      "\n",
      " Ave. Temperature: 17.717391304347824\n"
     ]
    }
   ],
   "source": [
    "print(tmp)\n",
    "print(\"\\n\", \"Ave. Temperature:\", tmp['Temperature'].mean())"
   ]
  },
  {
   "cell_type": "markdown",
   "id": "8301b871",
   "metadata": {},
   "source": [
    "Do it for seismic, where we are averaging the seismic magnituded"
   ]
  },
  {
   "cell_type": "code",
   "execution_count": 141,
   "id": "b3c1d21e",
   "metadata": {},
   "outputs": [
    {
     "data": {
      "text/html": [
       "<div>\n",
       "<style scoped>\n",
       "    .dataframe tbody tr th:only-of-type {\n",
       "        vertical-align: middle;\n",
       "    }\n",
       "\n",
       "    .dataframe tbody tr th {\n",
       "        vertical-align: top;\n",
       "    }\n",
       "\n",
       "    .dataframe thead th {\n",
       "        text-align: right;\n",
       "    }\n",
       "</style>\n",
       "<table border=\"1\" class=\"dataframe\">\n",
       "  <thead>\n",
       "    <tr style=\"text-align: right;\">\n",
       "      <th></th>\n",
       "      <th>Date</th>\n",
       "      <th>MAGNITUD</th>\n",
       "    </tr>\n",
       "  </thead>\n",
       "  <tbody>\n",
       "    <tr>\n",
       "      <th>0</th>\n",
       "      <td>2017-01-01</td>\n",
       "      <td>1.5</td>\n",
       "    </tr>\n",
       "    <tr>\n",
       "      <th>1</th>\n",
       "      <td>2017-01-01</td>\n",
       "      <td>1.4</td>\n",
       "    </tr>\n",
       "    <tr>\n",
       "      <th>2</th>\n",
       "      <td>2017-01-01</td>\n",
       "      <td>1.9</td>\n",
       "    </tr>\n",
       "  </tbody>\n",
       "</table>\n",
       "</div>"
      ],
      "text/plain": [
       "        Date  MAGNITUD\n",
       "0 2017-01-01       1.5\n",
       "1 2017-01-01       1.4\n",
       "2 2017-01-01       1.9"
      ]
     },
     "execution_count": 141,
     "metadata": {},
     "output_type": "execute_result"
    }
   ],
   "source": [
    "tmp_seismic_day = data_seismic[['FECHA - HORA UTC', 'MAGNITUD']].copy()\n",
    "tmp_seismic_day['Date'] = pd.to_datetime(tmp_seismic_day['FECHA - HORA UTC'], format='%Y-%m-%d %H:%M:%S')\n",
    "tmp_seismic_day.drop(columns='FECHA - HORA UTC', inplace=True)\n",
    "\n",
    "tmp_seismic_day.set_index('Date', inplace=True)\n",
    "tmp_seismic_day.reset_index(inplace=True)\n",
    "\n",
    "seismic_day = tmp_seismic_day.copy()\n",
    "seismic_day['Date'] = pd.to_datetime(seismic_day['Date']).dt.date\n",
    "seismic_day['Date'] = pd.to_datetime(seismic_day['Date'])\n",
    "\n",
    "'''\n",
    "tmp_seismic_day.set_index('Date', inplace=True)\n",
    "seismic_day = tmp_seismic_day.resample('D').mean()\n",
    "seismic_day = seismic_day.reset_index()\n",
    "'''\n",
    "seismic_day.head(3)"
   ]
  },
  {
   "cell_type": "code",
   "execution_count": 142,
   "id": "98d55435",
   "metadata": {},
   "outputs": [
    {
     "data": {
      "text/html": [
       "<div>\n",
       "<style scoped>\n",
       "    .dataframe tbody tr th:only-of-type {\n",
       "        vertical-align: middle;\n",
       "    }\n",
       "\n",
       "    .dataframe tbody tr th {\n",
       "        vertical-align: top;\n",
       "    }\n",
       "\n",
       "    .dataframe thead th {\n",
       "        text-align: right;\n",
       "    }\n",
       "</style>\n",
       "<table border=\"1\" class=\"dataframe\">\n",
       "  <thead>\n",
       "    <tr style=\"text-align: right;\">\n",
       "      <th></th>\n",
       "      <th>Date</th>\n",
       "      <th>MAGNITUD</th>\n",
       "    </tr>\n",
       "  </thead>\n",
       "  <tbody>\n",
       "    <tr>\n",
       "      <th>0</th>\n",
       "      <td>2017-02-06</td>\n",
       "      <td>5.3</td>\n",
       "    </tr>\n",
       "    <tr>\n",
       "      <th>1</th>\n",
       "      <td>2017-02-12</td>\n",
       "      <td>5.0</td>\n",
       "    </tr>\n",
       "    <tr>\n",
       "      <th>2</th>\n",
       "      <td>2017-10-01</td>\n",
       "      <td>5.4</td>\n",
       "    </tr>\n",
       "  </tbody>\n",
       "</table>\n",
       "</div>"
      ],
      "text/plain": [
       "        Date  MAGNITUD\n",
       "0 2017-02-06       5.3\n",
       "1 2017-02-12       5.0\n",
       "2 2017-10-01       5.4"
      ]
     },
     "execution_count": 142,
     "metadata": {},
     "output_type": "execute_result"
    }
   ],
   "source": [
    "tmp_seismic_day = seismic_magBig_5[['FECHA - HORA UTC', 'MAGNITUD']].copy()\n",
    "tmp_seismic_day['Date'] = pd.to_datetime(tmp_seismic_day['FECHA - HORA UTC'], format='%Y-%m-%d %H:%M:%S')\n",
    "tmp_seismic_day.drop(columns='FECHA - HORA UTC', inplace=True)\n",
    "tmp_seismic_day.set_index('Date', inplace=True)\n",
    "tmp_seismic_day.reset_index(inplace=True)\n",
    "\n",
    "seismic_day_magBig_5 = tmp_seismic_day.copy()\n",
    "seismic_day_magBig_5['Date'] = pd.to_datetime(seismic_day_magBig_5['Date']).dt.date\n",
    "seismic_day_magBig_5['Date'] = pd.to_datetime(seismic_day_magBig_5['Date'])\n",
    "\n",
    "seismic_day_magBig_5.head(3)"
   ]
  },
  {
   "cell_type": "markdown",
   "id": "bcf83611",
   "metadata": {},
   "source": [
    "Merging the data"
   ]
  },
  {
   "cell_type": "code",
   "execution_count": 143,
   "id": "fd047ad8",
   "metadata": {},
   "outputs": [],
   "source": [
    "df3 = temp_daily_avg.merge(seismic_day, on='Date', how='inner')\n",
    "df4 = temp_daily_avg.merge(seismic_day, on='Date', how='outer')\n",
    "\n",
    "df5 = temp_daily_avg.merge(seismic_day_magBig_5, on='Date', how='inner')"
   ]
  },
  {
   "cell_type": "code",
   "execution_count": 144,
   "id": "5882a1d2",
   "metadata": {},
   "outputs": [
    {
     "name": "stdout",
     "output_type": "stream",
     "text": [
      "732738\n"
     ]
    },
    {
     "data": {
      "text/html": [
       "<div>\n",
       "<style scoped>\n",
       "    .dataframe tbody tr th:only-of-type {\n",
       "        vertical-align: middle;\n",
       "    }\n",
       "\n",
       "    .dataframe tbody tr th {\n",
       "        vertical-align: top;\n",
       "    }\n",
       "\n",
       "    .dataframe thead th {\n",
       "        text-align: right;\n",
       "    }\n",
       "</style>\n",
       "<table border=\"1\" class=\"dataframe\">\n",
       "  <thead>\n",
       "    <tr style=\"text-align: right;\">\n",
       "      <th></th>\n",
       "      <th>Date</th>\n",
       "      <th>Temperature</th>\n",
       "      <th>MAGNITUD</th>\n",
       "    </tr>\n",
       "  </thead>\n",
       "  <tbody>\n",
       "    <tr>\n",
       "      <th>0</th>\n",
       "      <td>2005-07-26</td>\n",
       "      <td>18.4</td>\n",
       "      <td>2.1</td>\n",
       "    </tr>\n",
       "    <tr>\n",
       "      <th>1</th>\n",
       "      <td>2005-07-26</td>\n",
       "      <td>18.4</td>\n",
       "      <td>2.4</td>\n",
       "    </tr>\n",
       "    <tr>\n",
       "      <th>2</th>\n",
       "      <td>2005-07-26</td>\n",
       "      <td>18.4</td>\n",
       "      <td>1.9</td>\n",
       "    </tr>\n",
       "  </tbody>\n",
       "</table>\n",
       "</div>"
      ],
      "text/plain": [
       "        Date  Temperature  MAGNITUD\n",
       "0 2005-07-26         18.4       2.1\n",
       "1 2005-07-26         18.4       2.4\n",
       "2 2005-07-26         18.4       1.9"
      ]
     },
     "execution_count": 144,
     "metadata": {},
     "output_type": "execute_result"
    }
   ],
   "source": [
    "print(df3.size)\n",
    "df3.head(3)"
   ]
  },
  {
   "cell_type": "code",
   "execution_count": 145,
   "id": "fec2d5f1",
   "metadata": {},
   "outputs": [
    {
     "name": "stdout",
     "output_type": "stream",
     "text": [
      "879708\n"
     ]
    },
    {
     "data": {
      "text/html": [
       "<div>\n",
       "<style scoped>\n",
       "    .dataframe tbody tr th:only-of-type {\n",
       "        vertical-align: middle;\n",
       "    }\n",
       "\n",
       "    .dataframe tbody tr th {\n",
       "        vertical-align: top;\n",
       "    }\n",
       "\n",
       "    .dataframe thead th {\n",
       "        text-align: right;\n",
       "    }\n",
       "</style>\n",
       "<table border=\"1\" class=\"dataframe\">\n",
       "  <thead>\n",
       "    <tr style=\"text-align: right;\">\n",
       "      <th></th>\n",
       "      <th>Date</th>\n",
       "      <th>Temperature</th>\n",
       "      <th>MAGNITUD</th>\n",
       "    </tr>\n",
       "  </thead>\n",
       "  <tbody>\n",
       "    <tr>\n",
       "      <th>0</th>\n",
       "      <td>2005-07-26</td>\n",
       "      <td>18.4</td>\n",
       "      <td>2.1</td>\n",
       "    </tr>\n",
       "    <tr>\n",
       "      <th>1</th>\n",
       "      <td>2005-07-26</td>\n",
       "      <td>18.4</td>\n",
       "      <td>2.4</td>\n",
       "    </tr>\n",
       "    <tr>\n",
       "      <th>2</th>\n",
       "      <td>2005-07-26</td>\n",
       "      <td>18.4</td>\n",
       "      <td>1.9</td>\n",
       "    </tr>\n",
       "  </tbody>\n",
       "</table>\n",
       "</div>"
      ],
      "text/plain": [
       "        Date  Temperature  MAGNITUD\n",
       "0 2005-07-26         18.4       2.1\n",
       "1 2005-07-26         18.4       2.4\n",
       "2 2005-07-26         18.4       1.9"
      ]
     },
     "execution_count": 145,
     "metadata": {},
     "output_type": "execute_result"
    }
   ],
   "source": [
    "print(df4.size)\n",
    "df4.head(3)"
   ]
  },
  {
   "cell_type": "code",
   "execution_count": 176,
   "id": "3cf0307c",
   "metadata": {},
   "outputs": [
    {
     "data": {
      "image/png": "[encoded data removed]",
      "text/plain": [
       "<Figure size 432x288 with 1 Axes>"
      ]
     },
     "metadata": {
      "needs_background": "light"
     },
     "output_type": "display_data"
    }
   ],
   "source": [
    "df_filt = df5[(df5['Temperature'] > 18)]\n",
    "df_filt2 = df3[(df3['Temperature'] > 18)]\n",
    "\n",
    "plt.scatter(df_filt2['Temperature'], df_filt2['MAGNITUD'], color='blue', label='All Seismic')\n",
    "plt.scatter(df_filt['Temperature'], df_filt['MAGNITUD'], color='red', marker='*', label='Mg > 5')\n",
    "\n",
    "plt.xlabel('Temperature, Ave. per day °C')\n",
    "plt.ylabel('Magnitude')\n",
    "plt.legend()\n",
    "\n",
    "plt.show()"
   ]
  },
  {
   "cell_type": "code",
   "execution_count": 174,
   "id": "978619ce",
   "metadata": {},
   "outputs": [
    {
     "data": {
      "image/png": "[encoded data removed]",
      "text/plain": [
       "<Figure size 432x288 with 1 Axes>"
      ]
     },
     "metadata": {
      "needs_background": "light"
     },
     "output_type": "display_data"
    }
   ],
   "source": [
    "plt.scatter(df_filt['Temperature'], df_filt['MAGNITUD'], color='red', marker='*', label='Mg > 5')\n",
    "\n",
    "plt.xlabel('Temperature, Ave. per day °C')\n",
    "plt.ylabel('Magnitude')\n",
    "\n",
    "plt.show()"
   ]
  },
  {
   "cell_type": "code",
   "execution_count": null,
   "id": "57172539",
   "metadata": {},
   "outputs": [],
   "source": []
  }
 ],
 "metadata": {
  "kernelspec": {
   "display_name": "Python 3",
   "language": "python",
   "name": "python3"
  },
  "language_info": {
   "codemirror_mode": {
    "name": "ipython",
    "version": 3
   },
   "file_extension": ".py",
   "mimetype": "text/x-python",
   "name": "python",
   "nbconvert_exporter": "python",
   "pygments_lexer": "ipython3",
   "version": "3.8.10"
  }
 },
 "nbformat": 4,
 "nbformat_minor": 5
}
