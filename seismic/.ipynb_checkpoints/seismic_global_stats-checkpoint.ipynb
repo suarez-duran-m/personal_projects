{
 "cells": [
  {
   "cell_type": "markdown",
   "id": "680f6ffc",
   "metadata": {},
   "source": [
    "# Colombia seimic global stats\n",
    "(1st June, 1993 to 31st May, 2023)"
   ]
  },
  {
   "cell_type": "code",
   "execution_count": 1,
   "id": "78e36476",
   "metadata": {},
   "outputs": [],
   "source": [
    "import numpy as np\n",
    "import pandas as pd\n",
    "import matplotlib.pyplot as plt\n",
    "from ydata_profiling import ProfileReport"
   ]
  },
  {
   "cell_type": "markdown",
   "id": "a1bea584",
   "metadata": {},
   "source": [
    "## Data Collection: \n",
    "\n",
    "The data was downloaded form Servicio geológico colombiano, http://bdrsnc.sgc.gov.co/paginas1/catalogo/index.php and splited in 14 files: \"reporte???.xlsx\" "
   ]
  },
  {
   "cell_type": "markdown",
   "id": "106dc40e",
   "metadata": {},
   "source": [
    "## Data Wrangling\n",
    "\n",
    "According with the Servicio geológico colombiano, the data was collected and made public in two campaigns:\n",
    "\n",
    "* Firsh batch: from 1st of June, 1993 to 28th of Febraury, 2018. Registered by SEISAN software.\n",
    "* Firsh batch: from 1st of March, 2018 to 31st of May, 2023. Registered by SeisComp33 software.  \n",
    "\n",
    "See more details in the previous link.\n",
    "\n",
    "In line with the above, the data is coming with different fields between them."
   ]
  },
  {
   "cell_type": "code",
   "execution_count": 2,
   "id": "d98371c6",
   "metadata": {},
   "outputs": [],
   "source": [
    "# Reading data as Dataframe\n",
    "seismic_1st_jan_93_31_dec_99 = pd.read_excel('data/reporte362.xlsx')\n",
    "seismic_1st_mar_18_31_dec_18 = pd.read_excel('data/reporte97.xlsx')"
   ]
  },
  {
   "cell_type": "code",
   "execution_count": 3,
   "id": "ac6b2884",
   "metadata": {},
   "outputs": [
    {
     "name": "stdout",
     "output_type": "stream",
     "text": [
      "Describe for first batch\n"
     ]
    },
    {
     "data": {
      "text/html": [
       "<div>\n",
       "<style scoped>\n",
       "    .dataframe tbody tr th:only-of-type {\n",
       "        vertical-align: middle;\n",
       "    }\n",
       "\n",
       "    .dataframe tbody tr th {\n",
       "        vertical-align: top;\n",
       "    }\n",
       "\n",
       "    .dataframe thead th {\n",
       "        text-align: right;\n",
       "    }\n",
       "</style>\n",
       "<table border=\"1\" class=\"dataframe\">\n",
       "  <thead>\n",
       "    <tr style=\"text-align: right;\">\n",
       "      <th></th>\n",
       "      <th>LATITUD (grados)</th>\n",
       "      <th>LONGITUD (grados)</th>\n",
       "      <th>PROFUNDIDAD (Km)</th>\n",
       "      <th>MAGNITUD Ml</th>\n",
       "      <th>MAGNITUD Mw</th>\n",
       "      <th># FASES</th>\n",
       "      <th>RMS (Seg)</th>\n",
       "      <th>GAP (grados)</th>\n",
       "      <th>ERROR LATITUD (Km)</th>\n",
       "      <th>ERROR LONGITUD (Km)</th>\n",
       "      <th>ERROR PROFUNDIDAD (Km)</th>\n",
       "    </tr>\n",
       "  </thead>\n",
       "  <tbody>\n",
       "    <tr>\n",
       "      <th>count</th>\n",
       "      <td>19307.000000</td>\n",
       "      <td>19307.000000</td>\n",
       "      <td>19307.000000</td>\n",
       "      <td>19307.000000</td>\n",
       "      <td>4.00000</td>\n",
       "      <td>19307.000000</td>\n",
       "      <td>19120.000000</td>\n",
       "      <td>19120.000000</td>\n",
       "      <td>19120.000000</td>\n",
       "      <td>19120.000000</td>\n",
       "      <td>19120.000000</td>\n",
       "    </tr>\n",
       "    <tr>\n",
       "      <th>mean</th>\n",
       "      <td>5.979314</td>\n",
       "      <td>-74.159555</td>\n",
       "      <td>93.640628</td>\n",
       "      <td>2.859859</td>\n",
       "      <td>3.85000</td>\n",
       "      <td>6.514062</td>\n",
       "      <td>0.621967</td>\n",
       "      <td>226.296653</td>\n",
       "      <td>13.077814</td>\n",
       "      <td>15.651867</td>\n",
       "      <td>20.410722</td>\n",
       "    </tr>\n",
       "    <tr>\n",
       "      <th>std</th>\n",
       "      <td>1.588705</td>\n",
       "      <td>1.658059</td>\n",
       "      <td>66.114135</td>\n",
       "      <td>0.659376</td>\n",
       "      <td>0.58023</td>\n",
       "      <td>2.971662</td>\n",
       "      <td>0.388727</td>\n",
       "      <td>71.845641</td>\n",
       "      <td>14.753809</td>\n",
       "      <td>15.364010</td>\n",
       "      <td>20.087514</td>\n",
       "    </tr>\n",
       "    <tr>\n",
       "      <th>min</th>\n",
       "      <td>-2.646000</td>\n",
       "      <td>-83.400000</td>\n",
       "      <td>0.000000</td>\n",
       "      <td>0.500000</td>\n",
       "      <td>3.10000</td>\n",
       "      <td>0.000000</td>\n",
       "      <td>0.000000</td>\n",
       "      <td>0.000000</td>\n",
       "      <td>0.000000</td>\n",
       "      <td>0.000000</td>\n",
       "      <td>0.000000</td>\n",
       "    </tr>\n",
       "    <tr>\n",
       "      <th>25%</th>\n",
       "      <td>5.236500</td>\n",
       "      <td>-75.031000</td>\n",
       "      <td>10.000000</td>\n",
       "      <td>2.400000</td>\n",
       "      <td>3.55000</td>\n",
       "      <td>5.000000</td>\n",
       "      <td>0.400000</td>\n",
       "      <td>179.000000</td>\n",
       "      <td>5.300000</td>\n",
       "      <td>7.300000</td>\n",
       "      <td>8.900000</td>\n",
       "    </tr>\n",
       "    <tr>\n",
       "      <th>50%</th>\n",
       "      <td>6.782000</td>\n",
       "      <td>-73.168000</td>\n",
       "      <td>137.900000</td>\n",
       "      <td>2.800000</td>\n",
       "      <td>3.95000</td>\n",
       "      <td>6.000000</td>\n",
       "      <td>0.600000</td>\n",
       "      <td>227.000000</td>\n",
       "      <td>8.400000</td>\n",
       "      <td>11.200000</td>\n",
       "      <td>13.300000</td>\n",
       "    </tr>\n",
       "    <tr>\n",
       "      <th>75%</th>\n",
       "      <td>6.842000</td>\n",
       "      <td>-73.058000</td>\n",
       "      <td>150.000000</td>\n",
       "      <td>3.200000</td>\n",
       "      <td>4.25000</td>\n",
       "      <td>8.000000</td>\n",
       "      <td>0.800000</td>\n",
       "      <td>289.000000</td>\n",
       "      <td>14.300000</td>\n",
       "      <td>17.500000</td>\n",
       "      <td>22.600000</td>\n",
       "    </tr>\n",
       "    <tr>\n",
       "      <th>max</th>\n",
       "      <td>14.907000</td>\n",
       "      <td>-70.663000</td>\n",
       "      <td>700.000000</td>\n",
       "      <td>6.800000</td>\n",
       "      <td>4.40000</td>\n",
       "      <td>23.000000</td>\n",
       "      <td>9.300000</td>\n",
       "      <td>360.000000</td>\n",
       "      <td>99.900000</td>\n",
       "      <td>99.900000</td>\n",
       "      <td>99.900000</td>\n",
       "    </tr>\n",
       "  </tbody>\n",
       "</table>\n",
       "</div>"
      ],
      "text/plain": [
       "       LATITUD (grados)  LONGITUD (grados)  PROFUNDIDAD (Km)   MAGNITUD Ml  \\\n",
       "count      19307.000000       19307.000000      19307.000000  19307.000000   \n",
       "mean           5.979314         -74.159555         93.640628      2.859859   \n",
       "std            1.588705           1.658059         66.114135      0.659376   \n",
       "min           -2.646000         -83.400000          0.000000      0.500000   \n",
       "25%            5.236500         -75.031000         10.000000      2.400000   \n",
       "50%            6.782000         -73.168000        137.900000      2.800000   \n",
       "75%            6.842000         -73.058000        150.000000      3.200000   \n",
       "max           14.907000         -70.663000        700.000000      6.800000   \n",
       "\n",
       "       MAGNITUD Mw       # FASES     RMS (Seg)  GAP (grados)  \\\n",
       "count      4.00000  19307.000000  19120.000000  19120.000000   \n",
       "mean       3.85000      6.514062      0.621967    226.296653   \n",
       "std        0.58023      2.971662      0.388727     71.845641   \n",
       "min        3.10000      0.000000      0.000000      0.000000   \n",
       "25%        3.55000      5.000000      0.400000    179.000000   \n",
       "50%        3.95000      6.000000      0.600000    227.000000   \n",
       "75%        4.25000      8.000000      0.800000    289.000000   \n",
       "max        4.40000     23.000000      9.300000    360.000000   \n",
       "\n",
       "       ERROR LATITUD (Km)  ERROR LONGITUD (Km)  ERROR PROFUNDIDAD (Km)  \n",
       "count        19120.000000         19120.000000            19120.000000  \n",
       "mean            13.077814            15.651867               20.410722  \n",
       "std             14.753809            15.364010               20.087514  \n",
       "min              0.000000             0.000000                0.000000  \n",
       "25%              5.300000             7.300000                8.900000  \n",
       "50%              8.400000            11.200000               13.300000  \n",
       "75%             14.300000            17.500000               22.600000  \n",
       "max             99.900000            99.900000               99.900000  "
      ]
     },
     "execution_count": 3,
     "metadata": {},
     "output_type": "execute_result"
    }
   ],
   "source": [
    "print(\"Describe for first batch\")\n",
    "seismic_1st_jan_93_31_dec_99.describe()"
   ]
  },
  {
   "cell_type": "code",
   "execution_count": 4,
   "id": "8e351319",
   "metadata": {},
   "outputs": [
    {
     "name": "stdout",
     "output_type": "stream",
     "text": [
      "Columns name\n",
      "\n",
      "FECHA\n",
      "HORA_UTC\n",
      "LATITUD (grados)\n",
      "LONGITUD (grados)\n",
      "PROFUNDIDAD (Km)\n",
      "MAGNITUD Ml\n",
      "MAGNITUD Mw\n",
      "DEPARTAMENTO\n",
      "MUNICIPIO\n",
      "# FASES\n",
      "RMS (Seg)\n",
      "GAP (grados)\n",
      "ERROR LATITUD (Km)\n",
      "ERROR LONGITUD (Km)\n",
      "ERROR PROFUNDIDAD (Km)\n",
      "ESTADO\n"
     ]
    }
   ],
   "source": [
    "print(\"Columns name\\n\")\n",
    "for i in seismic_1st_jan_93_31_dec_99.columns.to_list():\n",
    "    print(i)"
   ]
  },
  {
   "cell_type": "code",
   "execution_count": 5,
   "id": "c9e47c13",
   "metadata": {},
   "outputs": [
    {
     "name": "stdout",
     "output_type": "stream",
     "text": [
      "Describe for second batch\n"
     ]
    },
    {
     "data": {
      "text/html": [
       "<div>\n",
       "<style scoped>\n",
       "    .dataframe tbody tr th:only-of-type {\n",
       "        vertical-align: middle;\n",
       "    }\n",
       "\n",
       "    .dataframe tbody tr th {\n",
       "        vertical-align: top;\n",
       "    }\n",
       "\n",
       "    .dataframe thead th {\n",
       "        text-align: right;\n",
       "    }\n",
       "</style>\n",
       "<table border=\"1\" class=\"dataframe\">\n",
       "  <thead>\n",
       "    <tr style=\"text-align: right;\">\n",
       "      <th></th>\n",
       "      <th>LATITUD (°)</th>\n",
       "      <th>LONGITUD (°)</th>\n",
       "      <th>PROF. (Km)</th>\n",
       "      <th>MAGNITUD</th>\n",
       "      <th>FASES</th>\n",
       "      <th>RMS (Seg)</th>\n",
       "      <th>GAP (°)</th>\n",
       "      <th>ERROR LATITUD (Km)</th>\n",
       "      <th>ERROR LONGITUD (Km)</th>\n",
       "      <th>ERROR PROFUNDIDAD (Km)</th>\n",
       "    </tr>\n",
       "  </thead>\n",
       "  <tbody>\n",
       "    <tr>\n",
       "      <th>count</th>\n",
       "      <td>18068.000000</td>\n",
       "      <td>18068.000000</td>\n",
       "      <td>18068.000000</td>\n",
       "      <td>18068.000000</td>\n",
       "      <td>18068.000000</td>\n",
       "      <td>18068.000000</td>\n",
       "      <td>18068.000000</td>\n",
       "      <td>18068.000000</td>\n",
       "      <td>18068.000000</td>\n",
       "      <td>18068.000000</td>\n",
       "    </tr>\n",
       "    <tr>\n",
       "      <th>mean</th>\n",
       "      <td>6.619257</td>\n",
       "      <td>-74.322648</td>\n",
       "      <td>88.147020</td>\n",
       "      <td>1.759182</td>\n",
       "      <td>17.946812</td>\n",
       "      <td>0.516421</td>\n",
       "      <td>135.059442</td>\n",
       "      <td>2.195343</td>\n",
       "      <td>2.221081</td>\n",
       "      <td>3.614744</td>\n",
       "    </tr>\n",
       "    <tr>\n",
       "      <th>std</th>\n",
       "      <td>2.181316</td>\n",
       "      <td>1.849835</td>\n",
       "      <td>58.705123</td>\n",
       "      <td>0.568986</td>\n",
       "      <td>12.256258</td>\n",
       "      <td>0.292753</td>\n",
       "      <td>54.626845</td>\n",
       "      <td>1.587369</td>\n",
       "      <td>1.628317</td>\n",
       "      <td>2.264250</td>\n",
       "    </tr>\n",
       "    <tr>\n",
       "      <th>min</th>\n",
       "      <td>0.277000</td>\n",
       "      <td>-89.985000</td>\n",
       "      <td>-2.000000</td>\n",
       "      <td>0.100000</td>\n",
       "      <td>4.000000</td>\n",
       "      <td>0.000000</td>\n",
       "      <td>32.000000</td>\n",
       "      <td>0.141000</td>\n",
       "      <td>0.141000</td>\n",
       "      <td>0.000000</td>\n",
       "    </tr>\n",
       "    <tr>\n",
       "      <th>25%</th>\n",
       "      <td>5.846750</td>\n",
       "      <td>-75.349250</td>\n",
       "      <td>20.380000</td>\n",
       "      <td>1.400000</td>\n",
       "      <td>10.000000</td>\n",
       "      <td>0.300000</td>\n",
       "      <td>98.000000</td>\n",
       "      <td>1.202000</td>\n",
       "      <td>1.202000</td>\n",
       "      <td>2.000000</td>\n",
       "    </tr>\n",
       "    <tr>\n",
       "      <th>50%</th>\n",
       "      <td>6.797000</td>\n",
       "      <td>-73.421500</td>\n",
       "      <td>111.595000</td>\n",
       "      <td>1.700000</td>\n",
       "      <td>14.000000</td>\n",
       "      <td>0.500000</td>\n",
       "      <td>131.000000</td>\n",
       "      <td>1.697000</td>\n",
       "      <td>1.697000</td>\n",
       "      <td>3.000000</td>\n",
       "    </tr>\n",
       "    <tr>\n",
       "      <th>75%</th>\n",
       "      <td>6.928000</td>\n",
       "      <td>-73.156000</td>\n",
       "      <td>142.700000</td>\n",
       "      <td>2.000000</td>\n",
       "      <td>22.000000</td>\n",
       "      <td>0.700000</td>\n",
       "      <td>162.000000</td>\n",
       "      <td>2.687000</td>\n",
       "      <td>2.758000</td>\n",
       "      <td>4.600000</td>\n",
       "    </tr>\n",
       "    <tr>\n",
       "      <th>max</th>\n",
       "      <td>14.314000</td>\n",
       "      <td>-70.514000</td>\n",
       "      <td>248.780000</td>\n",
       "      <td>6.100000</td>\n",
       "      <td>101.000000</td>\n",
       "      <td>4.400000</td>\n",
       "      <td>335.000000</td>\n",
       "      <td>56.781000</td>\n",
       "      <td>56.781000</td>\n",
       "      <td>53.390000</td>\n",
       "    </tr>\n",
       "  </tbody>\n",
       "</table>\n",
       "</div>"
      ],
      "text/plain": [
       "        LATITUD (°)  LONGITUD (°)    PROF. (Km)      MAGNITUD         FASES  \\\n",
       "count  18068.000000  18068.000000  18068.000000  18068.000000  18068.000000   \n",
       "mean       6.619257    -74.322648     88.147020      1.759182     17.946812   \n",
       "std        2.181316      1.849835     58.705123      0.568986     12.256258   \n",
       "min        0.277000    -89.985000     -2.000000      0.100000      4.000000   \n",
       "25%        5.846750    -75.349250     20.380000      1.400000     10.000000   \n",
       "50%        6.797000    -73.421500    111.595000      1.700000     14.000000   \n",
       "75%        6.928000    -73.156000    142.700000      2.000000     22.000000   \n",
       "max       14.314000    -70.514000    248.780000      6.100000    101.000000   \n",
       "\n",
       "          RMS (Seg)       GAP (°)  ERROR LATITUD (Km)  ERROR LONGITUD (Km)  \\\n",
       "count  18068.000000  18068.000000        18068.000000         18068.000000   \n",
       "mean       0.516421    135.059442            2.195343             2.221081   \n",
       "std        0.292753     54.626845            1.587369             1.628317   \n",
       "min        0.000000     32.000000            0.141000             0.141000   \n",
       "25%        0.300000     98.000000            1.202000             1.202000   \n",
       "50%        0.500000    131.000000            1.697000             1.697000   \n",
       "75%        0.700000    162.000000            2.687000             2.758000   \n",
       "max        4.400000    335.000000           56.781000            56.781000   \n",
       "\n",
       "       ERROR PROFUNDIDAD (Km)  \n",
       "count            18068.000000  \n",
       "mean                 3.614744  \n",
       "std                  2.264250  \n",
       "min                  0.000000  \n",
       "25%                  2.000000  \n",
       "50%                  3.000000  \n",
       "75%                  4.600000  \n",
       "max                 53.390000  "
      ]
     },
     "execution_count": 5,
     "metadata": {},
     "output_type": "execute_result"
    }
   ],
   "source": [
    "print(\"Describe for second batch\")\n",
    "seismic_1st_mar_18_31_dec_18.describe()"
   ]
  },
  {
   "cell_type": "code",
   "execution_count": 6,
   "id": "9b167203",
   "metadata": {},
   "outputs": [
    {
     "name": "stdout",
     "output_type": "stream",
     "text": [
      "Columns name\n",
      "\n",
      "FECHA - HORA UTC\n",
      "LATITUD (°)\n",
      "LONGITUD (°)\n",
      "PROF. (Km)\n",
      "MAGNITUD\n",
      "TIPO MAGNITUD\n",
      "FASES\n",
      "RMS (Seg)\n",
      "GAP (°)\n",
      "ERROR LATITUD (Km)\n",
      "ERROR LONGITUD (Km)\n",
      "ERROR PROFUNDIDAD (Km)\n",
      "REGION\n",
      "ESTADO\n"
     ]
    }
   ],
   "source": [
    "print(\"Columns name\\n\")\n",
    "for i in seismic_1st_mar_18_31_dec_18.columns.to_list():\n",
    "    print(i)"
   ]
  },
  {
   "cell_type": "code",
   "execution_count": 7,
   "id": "b79b7636",
   "metadata": {},
   "outputs": [
    {
     "name": "stdout",
     "output_type": "stream",
     "text": [
      "First batch \n",
      "\n",
      "FECHA\n",
      "HORA_UTC\n",
      "LAT\n",
      "LONG\n",
      "PROF.\n",
      "MAGNITUD Ml\n",
      "MAGNITUD Mw\n",
      "DEPARTAMENTO\n",
      "MUNICIPIO\n",
      "ERR-LAT\n",
      "ERR-LONG\n",
      "ERR-PROF\n",
      "ESTADO\n",
      "\n",
      "Second batch \n",
      "\n",
      "FECHA - HORA UTC\n",
      "LAT\n",
      "LONG\n",
      "PROF.\n",
      "MAGNITUD\n",
      "TIPO MAGNITUD\n",
      "ERR-LAT\n",
      "ERR-LONG\n",
      "ERR-PROF\n",
      "REGION\n",
      "ESTADO\n"
     ]
    }
   ],
   "source": [
    "# Chosen columns of interest and renaming\n",
    "seismic_1st_jan_93_31_dec_99 = seismic_1st_jan_93_31_dec_99[['FECHA', 'HORA_UTC', 'LATITUD (grados)', 'LONGITUD (grados)', 'PROFUNDIDAD (Km)', 'MAGNITUD Ml', 'MAGNITUD Mw', 'DEPARTAMENTO', 'MUNICIPIO', 'ERROR LATITUD (Km)', 'ERROR LONGITUD (Km)', 'ERROR PROFUNDIDAD (Km)', 'ESTADO']]\n",
    "seismic_1st_jan_93_31_dec_99.rename(columns={\"LATITUD (grados)\": \"LAT\", \"LONGITUD (grados)\": \"LONG\", 'PROFUNDIDAD (Km)': \"PROF.\", \"ERROR LATITUD (Km)\": \"ERR-LAT\", \"ERROR LONGITUD (Km)\": \"ERR-LONG\", \"ERROR PROFUNDIDAD (Km)\": \"ERR-PROF\"}, inplace=True)\n",
    "\n",
    "print(\"First batch\", '\\n')\n",
    "for i in seismic_1st_jan_93_31_dec_99.columns.to_list():\n",
    "    print(i)\n",
    "\n",
    "seismic_1st_mar_18_31_dec_18 = seismic_1st_mar_18_31_dec_18[['FECHA - HORA UTC', 'LATITUD (°)', 'LONGITUD (°)', 'PROF. (Km)', 'MAGNITUD', 'TIPO MAGNITUD', 'ERROR LATITUD (Km)', 'ERROR LONGITUD (Km)', 'ERROR PROFUNDIDAD (Km)', 'REGION', 'ESTADO']]\n",
    "seismic_1st_mar_18_31_dec_18.rename(columns={\"LATITUD (°)\": \"LAT\", \"LONGITUD (°)\": \"LONG\", 'PROF. (Km)': \"PROF.\", \"ERROR LATITUD (Km)\": \"ERR-LAT\", \"ERROR LONGITUD (Km)\": \"ERR-LONG\", \"ERROR PROFUNDIDAD (Km)\": \"ERR-PROF\"}, inplace=True)\n",
    "\n",
    "print(\"\\nSecond batch\", '\\n')\n",
    "for i in seismic_1st_mar_18_31_dec_18.columns.to_list():\n",
    "    print(i)"
   ]
  },
  {
   "cell_type": "markdown",
   "id": "1a7dc9df",
   "metadata": {},
   "source": [
    "## Standardizing"
   ]
  },
  {
   "cell_type": "markdown",
   "id": "679a87b6",
   "metadata": {},
   "source": [
    "### Checking for duplicate rows"
   ]
  },
  {
   "cell_type": "code",
   "execution_count": 8,
   "id": "bffea5c0",
   "metadata": {},
   "outputs": [
    {
     "data": {
      "text/html": [
       "<div>\n",
       "<style scoped>\n",
       "    .dataframe tbody tr th:only-of-type {\n",
       "        vertical-align: middle;\n",
       "    }\n",
       "\n",
       "    .dataframe tbody tr th {\n",
       "        vertical-align: top;\n",
       "    }\n",
       "\n",
       "    .dataframe thead th {\n",
       "        text-align: right;\n",
       "    }\n",
       "</style>\n",
       "<table border=\"1\" class=\"dataframe\">\n",
       "  <thead>\n",
       "    <tr style=\"text-align: right;\">\n",
       "      <th></th>\n",
       "      <th>FECHA</th>\n",
       "      <th>HORA_UTC</th>\n",
       "      <th>LAT</th>\n",
       "      <th>LONG</th>\n",
       "      <th>PROF.</th>\n",
       "      <th>MAGNITUD Ml</th>\n",
       "      <th>MAGNITUD Mw</th>\n",
       "      <th>DEPARTAMENTO</th>\n",
       "      <th>MUNICIPIO</th>\n",
       "      <th>ERR-LAT</th>\n",
       "      <th>ERR-LONG</th>\n",
       "      <th>ERR-PROF</th>\n",
       "      <th>ESTADO</th>\n",
       "    </tr>\n",
       "  </thead>\n",
       "  <tbody>\n",
       "  </tbody>\n",
       "</table>\n",
       "</div>"
      ],
      "text/plain": [
       "Empty DataFrame\n",
       "Columns: [FECHA, HORA_UTC, LAT, LONG, PROF., MAGNITUD Ml, MAGNITUD Mw, DEPARTAMENTO, MUNICIPIO, ERR-LAT, ERR-LONG, ERR-PROF, ESTADO]\n",
       "Index: []"
      ]
     },
     "execution_count": 8,
     "metadata": {},
     "output_type": "execute_result"
    }
   ],
   "source": [
    "seismic_1st_jan_93_31_dec_99[seismic_1st_jan_93_31_dec_99.duplicated()]"
   ]
  },
  {
   "cell_type": "code",
   "execution_count": 9,
   "id": "a216fbc9",
   "metadata": {},
   "outputs": [
    {
     "data": {
      "text/html": [
       "<div>\n",
       "<style scoped>\n",
       "    .dataframe tbody tr th:only-of-type {\n",
       "        vertical-align: middle;\n",
       "    }\n",
       "\n",
       "    .dataframe tbody tr th {\n",
       "        vertical-align: top;\n",
       "    }\n",
       "\n",
       "    .dataframe thead th {\n",
       "        text-align: right;\n",
       "    }\n",
       "</style>\n",
       "<table border=\"1\" class=\"dataframe\">\n",
       "  <thead>\n",
       "    <tr style=\"text-align: right;\">\n",
       "      <th></th>\n",
       "      <th>FECHA - HORA UTC</th>\n",
       "      <th>LAT</th>\n",
       "      <th>LONG</th>\n",
       "      <th>PROF.</th>\n",
       "      <th>MAGNITUD</th>\n",
       "      <th>TIPO MAGNITUD</th>\n",
       "      <th>ERR-LAT</th>\n",
       "      <th>ERR-LONG</th>\n",
       "      <th>ERR-PROF</th>\n",
       "      <th>REGION</th>\n",
       "      <th>ESTADO</th>\n",
       "    </tr>\n",
       "  </thead>\n",
       "  <tbody>\n",
       "  </tbody>\n",
       "</table>\n",
       "</div>"
      ],
      "text/plain": [
       "Empty DataFrame\n",
       "Columns: [FECHA - HORA UTC, LAT, LONG, PROF., MAGNITUD, TIPO MAGNITUD, ERR-LAT, ERR-LONG, ERR-PROF, REGION, ESTADO]\n",
       "Index: []"
      ]
     },
     "execution_count": 9,
     "metadata": {},
     "output_type": "execute_result"
    }
   ],
   "source": [
    "seismic_1st_mar_18_31_dec_18[seismic_1st_mar_18_31_dec_18.duplicated()]"
   ]
  },
  {
   "cell_type": "markdown",
   "id": "c62db72f",
   "metadata": {},
   "source": [
    "### Checking for NaN"
   ]
  },
  {
   "cell_type": "code",
   "execution_count": 10,
   "id": "0a717e84",
   "metadata": {},
   "outputs": [
    {
     "name": "stdout",
     "output_type": "stream",
     "text": [
      "NaN:\n",
      "\n",
      "FECHA               0\n",
      "HORA_UTC            0\n",
      "LAT                 0\n",
      "LONG                0\n",
      "PROF.               0\n",
      "MAGNITUD Ml         0\n",
      "MAGNITUD Mw     19303\n",
      "DEPARTAMENTO        0\n",
      "MUNICIPIO           0\n",
      "ERR-LAT           187\n",
      "ERR-LONG          187\n",
      "ERR-PROF          187\n",
      "ESTADO              0\n",
      "dtype: int64\n",
      "\n",
      " Missing cells\n",
      " 19864\n"
     ]
    }
   ],
   "source": [
    "print(\"NaN:\\n\")\n",
    "print(seismic_1st_jan_93_31_dec_99.isna().sum())\n",
    "print(\"\\n Missing cells\\n\", seismic_1st_jan_93_31_dec_99.isna().sum().sum())"
   ]
  },
  {
   "cell_type": "code",
   "execution_count": 11,
   "id": "eec4248c",
   "metadata": {},
   "outputs": [
    {
     "name": "stdout",
     "output_type": "stream",
     "text": [
      "NaN:\n",
      "\n",
      "FECHA - HORA UTC    0\n",
      "LAT                 0\n",
      "LONG                0\n",
      "PROF.               0\n",
      "MAGNITUD            0\n",
      "TIPO MAGNITUD       0\n",
      "ERR-LAT             0\n",
      "ERR-LONG            0\n",
      "ERR-PROF            0\n",
      "REGION              0\n",
      "ESTADO              0\n",
      "dtype: int64\n",
      "\n",
      " Missing cells\n",
      " 0\n"
     ]
    }
   ],
   "source": [
    "print(\"NaN:\\n\")\n",
    "print(seismic_1st_mar_18_31_dec_18.isna().sum())\n",
    "print(\"\\n Missing cells\\n\", seismic_1st_mar_18_31_dec_18.isna().sum().sum())"
   ]
  },
  {
   "cell_type": "markdown",
   "id": "2cfcf6e8",
   "metadata": {},
   "source": [
    "### Zoom in on missing values"
   ]
  },
  {
   "cell_type": "code",
   "execution_count": 12,
   "id": "2dfde6bc",
   "metadata": {},
   "outputs": [
    {
     "name": "stdout",
     "output_type": "stream",
     "text": [
      "       MAGNITUD Ml  MAGNITUD Mw\n",
      "5687           2.9          4.4\n",
      "10641          3.0          4.2\n",
      "10791          2.7          3.1\n",
      "14910          0.7          3.7\n"
     ]
    }
   ],
   "source": [
    "tmp = np.where(seismic_1st_jan_93_31_dec_99['MAGNITUD Mw'].notnull())\n",
    "for i in tmp:\n",
    "    print(seismic_1st_jan_93_31_dec_99[['MAGNITUD Ml', 'MAGNITUD Mw']].iloc[i])"
   ]
  },
  {
   "cell_type": "markdown",
   "id": "dbadfaa3",
   "metadata": {},
   "source": [
    "As we can see, there are just four values for Mw with the respectiv Ml, so may no sense to keep the Mw magnitued column"
   ]
  },
  {
   "cell_type": "code",
   "execution_count": 13,
   "id": "a52d2fed",
   "metadata": {},
   "outputs": [
    {
     "name": "stdout",
     "output_type": "stream",
     "text": [
      "NaN:\n",
      "\n",
      "FECHA             0\n",
      "HORA_UTC          0\n",
      "LAT               0\n",
      "LONG              0\n",
      "PROF.             0\n",
      "MAGNITUD          0\n",
      "DEPARTAMENTO      0\n",
      "MUNICIPIO         0\n",
      "ERR-LAT         187\n",
      "ERR-LONG        187\n",
      "ERR-PROF        187\n",
      "ESTADO            0\n",
      "dtype: int64\n"
     ]
    }
   ],
   "source": [
    "seismic_1st_jan_93_31_dec_99.drop(columns='MAGNITUD Mw', inplace=True)\n",
    "seismic_1st_jan_93_31_dec_99.rename(columns={'MAGNITUD Ml': 'MAGNITUD'}, inplace=True)\n",
    "print(\"NaN:\\n\")\n",
    "print(seismic_1st_jan_93_31_dec_99.isna().sum())"
   ]
  },
  {
   "cell_type": "markdown",
   "id": "700c8d56",
   "metadata": {},
   "source": [
    "Regardin the missing values for Latitude, longitude, and deep errors, lets replace them with the respective average"
   ]
  },
  {
   "cell_type": "code",
   "execution_count": 14,
   "id": "3883f811",
   "metadata": {},
   "outputs": [
    {
     "name": "stdout",
     "output_type": "stream",
     "text": [
      "NaN:\n",
      "\n",
      "FECHA           0\n",
      "HORA_UTC        0\n",
      "LAT             0\n",
      "LONG            0\n",
      "PROF.           0\n",
      "MAGNITUD        0\n",
      "DEPARTAMENTO    0\n",
      "MUNICIPIO       0\n",
      "ERR-LAT         0\n",
      "ERR-LONG        0\n",
      "ERR-PROF        0\n",
      "ESTADO          0\n",
      "dtype: int64\n"
     ]
    }
   ],
   "source": [
    "aveErrLat = seismic_1st_jan_93_31_dec_99['ERR-LAT'].mean()\n",
    "aveErrLon = seismic_1st_jan_93_31_dec_99['ERR-LONG'].mean()\n",
    "aveErrPro = seismic_1st_jan_93_31_dec_99['ERR-PROF'].mean()\n",
    "#\n",
    "seismic_1st_jan_93_31_dec_99['ERR-LAT'].fillna(aveErrLat, inplace=True)\n",
    "seismic_1st_jan_93_31_dec_99['ERR-LONG'].fillna(aveErrLon, inplace=True)\n",
    "seismic_1st_jan_93_31_dec_99['ERR-PROF'].fillna(aveErrPro, inplace=True)\n",
    "#\n",
    "print(\"NaN:\\n\")\n",
    "print(seismic_1st_jan_93_31_dec_99.isna().sum())"
   ]
  },
  {
   "cell_type": "code",
   "execution_count": 15,
   "id": "027ee0fd",
   "metadata": {},
   "outputs": [
    {
     "name": "stdout",
     "output_type": "stream",
     "text": [
      "LAT\n",
      "LONG\n",
      "PROF.\n",
      "MAGNITUD\n",
      "DEPARTAMENTO\n",
      "MUNICIPIO\n",
      "ERR-LAT\n",
      "ERR-LONG\n",
      "ERR-PROF\n",
      "ESTADO\n",
      "FECHA - HORA UTC\n"
     ]
    }
   ],
   "source": [
    "# Merging columns FECHA and HORA_UTC\n",
    "seismic_1st_jan_93_31_dec_99['FECHA - HORA UTC'] = seismic_1st_jan_93_31_dec_99['FECHA'] + ' ' + seismic_1st_jan_93_31_dec_99['HORA_UTC']\n",
    "seismic_1st_jan_93_31_dec_99.drop(columns=['FECHA', 'HORA_UTC'], inplace=True)\n",
    "\n",
    "for i in seismic_1st_jan_93_31_dec_99.columns.to_list():\n",
    "    print(i)"
   ]
  },
  {
   "cell_type": "markdown",
   "id": "055b44b3",
   "metadata": {},
   "source": [
    "### Checking for magnitudes in the second batch"
   ]
  },
  {
   "cell_type": "code",
   "execution_count": 16,
   "id": "b7691111",
   "metadata": {},
   "outputs": [
    {
     "name": "stdout",
     "output_type": "stream",
     "text": [
      "MLr_3\n",
      "MLr_2\n",
      "MLr_1\n",
      "MLr\n",
      "MLr_4\n",
      "M_MLr\n",
      "MLr_vmm\n",
      "M\n",
      "MLr_5\n",
      "Mw(mB)\n",
      "MLv\n",
      "Mw\n",
      "mb\n",
      "Mwp\n",
      "ML\n",
      "Mw(Mwp)\n"
     ]
    }
   ],
   "source": [
    "for i in seismic_1st_mar_18_31_dec_18['TIPO MAGNITUD'].value_counts().index:\n",
    "    print(i)"
   ]
  },
  {
   "cell_type": "markdown",
   "id": "5eb1defe",
   "metadata": {},
   "source": [
    "As an approach, for this analysis we are considering all the magnitudes as Ml, __even though they are not__.  \n",
    "So, lets drop the column 'TIPO DE MAGNITUD'"
   ]
  },
  {
   "cell_type": "code",
   "execution_count": 17,
   "id": "f95517d6",
   "metadata": {},
   "outputs": [
    {
     "data": {
      "text/plain": [
       "['FECHA - HORA UTC',\n",
       " 'LAT',\n",
       " 'LONG',\n",
       " 'PROF.',\n",
       " 'MAGNITUD',\n",
       " 'ERR-LAT',\n",
       " 'ERR-LONG',\n",
       " 'ERR-PROF',\n",
       " 'REGION',\n",
       " 'ESTADO']"
      ]
     },
     "execution_count": 17,
     "metadata": {},
     "output_type": "execute_result"
    }
   ],
   "source": [
    "seismic_1st_mar_18_31_dec_18.drop(columns='TIPO MAGNITUD', inplace=True)\n",
    "seismic_1st_mar_18_31_dec_18.columns.to_list()"
   ]
  },
  {
   "cell_type": "markdown",
   "id": "7020a9cd",
   "metadata": {},
   "source": [
    "Lest zoom in on MUNICIPO and DEPARTAMENTE, first batch, and for REGION, second batch"
   ]
  },
  {
   "cell_type": "code",
   "execution_count": 18,
   "id": "4bf32f2b",
   "metadata": {},
   "outputs": [
    {
     "name": "stdout",
     "output_type": "stream",
     "text": [
      "MUNICIPIO       LOS_SANTOS\n",
      "DEPARTAMENTO     SANTANDER\n",
      "Name: 1, dtype: object\n",
      "\n",
      "\n",
      "Los Santos - Santander, Colombia\n"
     ]
    }
   ],
   "source": [
    "print(seismic_1st_jan_93_31_dec_99[['MUNICIPIO', 'DEPARTAMENTO']].iloc[1])\n",
    "print(\"\\n\")\n",
    "print(seismic_1st_mar_18_31_dec_18['REGION'].iloc[1])"
   ]
  },
  {
   "cell_type": "markdown",
   "id": "a945e9a5",
   "metadata": {},
   "source": [
    "In this case, \"REGION: Los Santons - Santander, Colombia\" means:  \n",
    "- MUNICIPIO = Los Santos\n",
    "- DEPARTAMENTO = Santander  \n",
    "\n",
    "So, lets put into the column REGION just the MUNICIPIO, create a new column DEPARTAMENTO by putting the respective value, and rename REGION as MUNICIPIO"
   ]
  },
  {
   "cell_type": "code",
   "execution_count": 23,
   "id": "0be9537b",
   "metadata": {},
   "outputs": [],
   "source": [
    "tmp_a = seismic_1st_mar_18_31_dec_18['REGION'].str.split('-').str[0].str.strip()\n",
    "tmp_b = seismic_1st_mar_18_31_dec_18['REGION'].str.split(',').str[0].str.strip()\n",
    "tmp_c = tmp_b.str.split('-').str[1].str.strip()\n",
    "#\n",
    "seismic_1st_mar_18_31_dec_18['REGION'] = tmp_a\n",
    "seismic_1st_mar_18_31_dec_18['DEPARTAMENTO'] = tmp_c\n",
    "\n",
    "seismic_1st_mar_18_31_dec_18.rename(columns={'REGION': 'MUNICIPIO'}, inplace=True)"
   ]
  },
  {
   "cell_type": "code",
   "execution_count": 26,
   "id": "caa50006",
   "metadata": {},
   "outputs": [
    {
     "data": {
      "text/plain": [
       "MUNICIPIO       Los Santos\n",
       "DEPARTAMENTO     Santander\n",
       "Name: 1, dtype: object"
      ]
     },
     "execution_count": 26,
     "metadata": {},
     "output_type": "execute_result"
    }
   ],
   "source": [
    "seismic_1st_mar_18_31_dec_18[['MUNICIPIO', 'DEPARTAMENTO']].iloc[1]"
   ]
  },
  {
   "cell_type": "markdown",
   "id": "87988529",
   "metadata": {},
   "source": [
    "### Checking if missing values"
   ]
  },
  {
   "cell_type": "code",
   "execution_count": 68,
   "id": "0afee732",
   "metadata": {},
   "outputs": [
    {
     "data": {
      "text/plain": [
       "FECHA - HORA UTC       0\n",
       "LAT                    0\n",
       "LONG                   0\n",
       "PROF.                  0\n",
       "MAGNITUD               0\n",
       "ERR-LAT                0\n",
       "ERR-LONG               0\n",
       "ERR-PROF               0\n",
       "MUNICIPIO              0\n",
       "ESTADO                 0\n",
       "DEPARTAMENTO        1395\n",
       "dtype: int64"
      ]
     },
     "execution_count": 68,
     "metadata": {},
     "output_type": "execute_result"
    }
   ],
   "source": [
    "seismic_1st_mar_18_31_dec_18.isna().sum()"
   ]
  },
  {
   "cell_type": "code",
   "execution_count": 69,
   "id": "5340d2c5",
   "metadata": {},
   "outputs": [
    {
     "data": {
      "text/plain": [
       "FECHA - HORA UTC    0\n",
       "LAT                 0\n",
       "LONG                0\n",
       "PROF.               0\n",
       "MAGNITUD            0\n",
       "ERR-LAT             0\n",
       "ERR-LONG            0\n",
       "ERR-PROF            0\n",
       "MUNICIPIO           0\n",
       "ESTADO              0\n",
       "DEPARTAMENTO        0\n",
       "dtype: int64"
      ]
     },
     "execution_count": 69,
     "metadata": {},
     "output_type": "execute_result"
    }
   ],
   "source": [
    "tmp_index = seismic_1st_mar_18_31_dec_18[seismic_1st_mar_18_31_dec_18.isna().any(axis=1)].index\n",
    "seismic_1st_mar_18_31_dec_18 = seismic_1st_mar_18_31_dec_18.drop(tmp_index)\n",
    "\n",
    "seismic_1st_mar_18_31_dec_18.isna().sum()"
   ]
  },
  {
   "cell_type": "code",
   "execution_count": 70,
   "id": "b8dc24ff",
   "metadata": {},
   "outputs": [
    {
     "name": "stdout",
     "output_type": "stream",
     "text": [
      "LAT\n",
      "LONG\n",
      "PROF.\n",
      "MAGNITUD\n",
      "DEPARTAMENTO\n",
      "MUNICIPIO\n",
      "ERR-LAT\n",
      "ERR-LONG\n",
      "ERR-PROF\n",
      "ESTADO\n",
      "FECHA - HORA UTC\n",
      "(19307, 11)\n",
      "\n",
      "\n",
      "FECHA - HORA UTC\n",
      "LAT\n",
      "LONG\n",
      "PROF.\n",
      "MAGNITUD\n",
      "ERR-LAT\n",
      "ERR-LONG\n",
      "ERR-PROF\n",
      "MUNICIPIO\n",
      "ESTADO\n",
      "DEPARTAMENTO\n",
      "(16673, 11)\n"
     ]
    }
   ],
   "source": [
    "for i in seismic_1st_jan_93_31_dec_99.columns.to_list():\n",
    "    print(i)\n",
    "print(seismic_1st_jan_93_31_dec_99.shape)\n",
    "print(\"\\n\")\n",
    "for i in seismic_1st_mar_18_31_dec_18.columns.to_list():\n",
    "    print(i)\n",
    "print(seismic_1st_mar_18_31_dec_18.shape)"
   ]
  },
  {
   "cell_type": "code",
   "execution_count": 71,
   "id": "adebf55b",
   "metadata": {},
   "outputs": [],
   "source": [
    "seismic_merged = pd.concat([seismic_1st_jan_93_31_dec_99, seismic_1st_mar_18_31_dec_18])"
   ]
  },
  {
   "cell_type": "code",
   "execution_count": 72,
   "id": "8aaadb6d",
   "metadata": {},
   "outputs": [
    {
     "name": "stdout",
     "output_type": "stream",
     "text": [
      "LAT\n",
      "LONG\n",
      "PROF.\n",
      "MAGNITUD\n",
      "DEPARTAMENTO\n",
      "MUNICIPIO\n",
      "ERR-LAT\n",
      "ERR-LONG\n",
      "ERR-PROF\n",
      "ESTADO\n",
      "FECHA - HORA UTC\n",
      "(35980, 11)\n"
     ]
    }
   ],
   "source": [
    "for i in seismic_merged.columns.to_list():\n",
    "    print(i)\n",
    "print(seismic_merged.shape)"
   ]
  },
  {
   "cell_type": "code",
   "execution_count": 73,
   "id": "b9c3d754",
   "metadata": {},
   "outputs": [
    {
     "data": {
      "text/plain": [
       "LAT                                6.79\n",
       "LONG                            -73.053\n",
       "PROF.                             152.5\n",
       "MAGNITUD                            3.0\n",
       "DEPARTAMENTO                  SANTANDER\n",
       "MUNICIPIO                    LOS_SANTOS\n",
       "ERR-LAT                            10.3\n",
       "ERR-LONG                            9.8\n",
       "ERR-PROF                            8.9\n",
       "ESTADO                         Revisado\n",
       "FECHA - HORA UTC    1993-06-01 03:08:28\n",
       "Name: 1, dtype: object"
      ]
     },
     "execution_count": 73,
     "metadata": {},
     "output_type": "execute_result"
    }
   ],
   "source": [
    "seismic_merged.iloc[1]"
   ]
  },
  {
   "cell_type": "code",
   "execution_count": 74,
   "id": "a0854b85",
   "metadata": {},
   "outputs": [
    {
     "name": "stdout",
     "output_type": "stream",
     "text": [
      "NaN:\n",
      "\n",
      "LAT                 0\n",
      "LONG                0\n",
      "PROF.               0\n",
      "MAGNITUD            0\n",
      "DEPARTAMENTO        0\n",
      "MUNICIPIO           0\n",
      "ERR-LAT             0\n",
      "ERR-LONG            0\n",
      "ERR-PROF            0\n",
      "ESTADO              0\n",
      "FECHA - HORA UTC    0\n",
      "dtype: int64 \n",
      "\n",
      "FECHA - HORA UTC    0\n",
      "LAT                 0\n",
      "LONG                0\n",
      "PROF.               0\n",
      "MAGNITUD            0\n",
      "ERR-LAT             0\n",
      "ERR-LONG            0\n",
      "ERR-PROF            0\n",
      "MUNICIPIO           0\n",
      "ESTADO              0\n",
      "DEPARTAMENTO        0\n",
      "dtype: int64\n"
     ]
    }
   ],
   "source": [
    "print(\"NaN:\\n\")\n",
    "print(seismic_merged.isna().sum(), '\\n')\n",
    "\n",
    "print(seismic_1st_mar_18_31_dec_18.isna().sum())"
   ]
  },
  {
   "cell_type": "code",
   "execution_count": 75,
   "id": "236822c6",
   "metadata": {},
   "outputs": [
    {
     "data": {
      "application/vnd.jupyter.widget-view+json": {
       "model_id": "6546d42ef3db47389652e66c539f44c1",
       "version_major": 2,
       "version_minor": 0
      },
      "text/plain": [
       "Summarize dataset:   0%|          | 0/5 [00:00<?, ?it/s]"
      ]
     },
     "metadata": {},
     "output_type": "display_data"
    },
    {
     "name": "stderr",
     "output_type": "stream",
     "text": [
      "/home/mauricio/.local/lib/python3.10/site-packages/ydata_profiling/model/pandas/correlations_pandas.py:84: FutureWarning: reindexing with a non-unique Index is deprecated and will raise in a future version.\n",
      "  return _cramers_corrected_stat(pd.crosstab(col_1, col_2), correction=True)\n",
      "/home/mauricio/.local/lib/python3.10/site-packages/ydata_profiling/model/correlations.py:66: UserWarning: There was an attempt to calculate the auto correlation, but this failed.\n",
      "To hide this warning, disable the calculation\n",
      "(using `df.profile_report(correlations={\"auto\": {\"calculate\": False}})`\n",
      "If this is problematic for your use case, please report this as an issue:\n",
      "https://github.com/ydataai/ydata-profiling/issues\n",
      "(include the error message: 'cannot reindex on an axis with duplicate labels')\n",
      "  warnings.warn(\n"
     ]
    },
    {
     "data": {
      "application/vnd.jupyter.widget-view+json": {
       "model_id": "f70b23342e31432a8913a37eba291322",
       "version_major": 2,
       "version_minor": 0
      },
      "text/plain": [
       "Generate report structure:   0%|          | 0/1 [00:00<?, ?it/s]"
      ]
     },
     "metadata": {},
     "output_type": "display_data"
    },
    {
     "data": {
      "application/vnd.jupyter.widget-view+json": {
       "model_id": "bce1833cc2bd44aeaa06c2a28fb38e48",
       "version_major": 2,
       "version_minor": 0
      },
      "text/plain": [
       "Render HTML:   0%|          | 0/1 [00:00<?, ?it/s]"
      ]
     },
     "metadata": {},
     "output_type": "display_data"
    },
    {
     "data": {
      "application/vnd.jupyter.widget-view+json": {
       "model_id": "14b88dc7e30f4f3ab67aae796be86060",
       "version_major": 2,
       "version_minor": 0
      },
      "text/plain": [
       "Export report to file:   0%|          | 0/1 [00:00<?, ?it/s]"
      ]
     },
     "metadata": {},
     "output_type": "display_data"
    }
   ],
   "source": [
    "profile = ProfileReport(seismic_merged, title=\"Seismic from 1st Jan. 1993 to 31st Dec. 2018\")\n",
    "profile.to_file(\"report_1st_jan_93_31st_dec_18.html\")"
   ]
  },
  {
   "cell_type": "code",
   "execution_count": null,
   "id": "8894a294",
   "metadata": {},
   "outputs": [],
   "source": []
  }
 ],
 "metadata": {
  "kernelspec": {
   "display_name": "Python 3 (ipykernel)",
   "language": "python",
   "name": "python3"
  },
  "language_info": {
   "codemirror_mode": {
    "name": "ipython",
    "version": 3
   },
   "file_extension": ".py",
   "mimetype": "text/x-python",
   "name": "python",
   "nbconvert_exporter": "python",
   "pygments_lexer": "ipython3",
   "version": "3.10.6"
  }
 },
 "nbformat": 4,
 "nbformat_minor": 5
}
