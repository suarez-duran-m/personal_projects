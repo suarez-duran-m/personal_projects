{
  "nbformat": 4,
  "nbformat_minor": 0,
  "metadata": {
    "colab": {
      "provenance": [],
      "authorship_tag": "ABX9TyOBOU9OzLk7l2NIRf7Jh/KM",
      "include_colab_link": true
    },
    "kernelspec": {
      "name": "python3",
      "display_name": "Python 3"
    },
    "language_info": {
      "name": "python"
    }
  },
  "cells": [
    {
      "cell_type": "markdown",
      "metadata": {
        "id": "view-in-github",
        "colab_type": "text"
      },
      "source": [
        "<a href=\"https://colab.research.google.com/github/suarez-duran-m/personal_projects/blob/main/movility/medellin/analysis_accidents_data.ipynb\" target=\"_parent\"><img src=\"https://colab.research.google.com/assets/colab-badge.svg\" alt=\"Open In Colab\"/></a>"
      ]
    },
    {
      "cell_type": "markdown",
      "source": [
        "Texting:\n",
        "\n",
        "* Create a notebook in Google Colab\n",
        "* To save and push to an existed repository on GitHub"
      ],
      "metadata": {
        "id": "UOeYgINPjjax"
      }
    },
    {
      "cell_type": "code",
      "execution_count": null,
      "metadata": {
        "id": "oUIX92NvjhUI"
      },
      "outputs": [],
      "source": []
    }
  ]
}