{
 "cells": [
  {
   "cell_type": "markdown",
   "id": "2b51d78a",
   "metadata": {},
   "source": [
    "# Medellin car accidents\n",
    "(From 2021 to 2022)"
   ]
  },
  {
   "cell_type": "code",
   "execution_count": 1,
   "id": "e1a4856e",
   "metadata": {},
   "outputs": [],
   "source": [
    "import numpy as np\n",
    "import pandas as pd\n",
    "import matplotlib.pyplot as plt\n",
    "from ydata_profiling import ProfileReport"
   ]
  },
  {
   "cell_type": "markdown",
   "id": "7769cb9f",
   "metadata": {},
   "source": [
    "## Data collection:\n",
    "\n",
    "Data source Open Data Medellín: https://geomedellin-m-medellin.opendata.arcgis.com/"
   ]
  },
  {
   "cell_type": "code",
   "execution_count": 2,
   "id": "7ac2820c",
   "metadata": {},
   "outputs": [],
   "source": [
    "# List of file names\n",
    "file_crash_2020 = 'data/crashes_georef_2020.csv'\n",
    "file_crash_2021 = 'data/crashes_georef_2021.csv'\n",
    "file_crash_2022 = 'data/crashes_georef_2022.csv'\n",
    "\n",
    "crash_2020 = pd.read_csv(file_crash_2020)\n",
    "crash_2021 = pd.read_csv(file_crash_2021)\n",
    "crash_2022 = pd.read_csv(file_crash_2022)"
   ]
  },
  {
   "cell_type": "code",
   "execution_count": 3,
   "id": "e28fbf4b",
   "metadata": {},
   "outputs": [
    {
     "data": {
      "text/html": [
       "<div>\n",
       "<style scoped>\n",
       "    .dataframe tbody tr th:only-of-type {\n",
       "        vertical-align: middle;\n",
       "    }\n",
       "\n",
       "    .dataframe tbody tr th {\n",
       "        vertical-align: top;\n",
       "    }\n",
       "\n",
       "    .dataframe thead th {\n",
       "        text-align: right;\n",
       "    }\n",
       "</style>\n",
       "<table border=\"1\" class=\"dataframe\">\n",
       "  <thead>\n",
       "    <tr style=\"text-align: right;\">\n",
       "      <th></th>\n",
       "      <th>X</th>\n",
       "      <th>Y</th>\n",
       "      <th>OBJECTID</th>\n",
       "      <th>RADICADO</th>\n",
       "      <th>HORA</th>\n",
       "      <th>DIA_NOMBRE</th>\n",
       "      <th>PERIODO</th>\n",
       "      <th>CLASE</th>\n",
       "      <th>DIRECCION</th>\n",
       "      <th>DIRECCION_ENC</th>\n",
       "      <th>...</th>\n",
       "      <th>COMUNA</th>\n",
       "      <th>DISENO</th>\n",
       "      <th>MES</th>\n",
       "      <th>DIA</th>\n",
       "      <th>FECHA</th>\n",
       "      <th>MES_NOMBRE</th>\n",
       "      <th>X_MAGNAMED</th>\n",
       "      <th>Y_MAGNAMED</th>\n",
       "      <th>LONGITUD</th>\n",
       "      <th>LATITUD</th>\n",
       "    </tr>\n",
       "  </thead>\n",
       "  <tbody>\n",
       "    <tr>\n",
       "      <th>0</th>\n",
       "      <td>-75.568507</td>\n",
       "      <td>6.210703</td>\n",
       "      <td>1</td>\n",
       "      <td>1717722</td>\n",
       "      <td>01:35:00</td>\n",
       "      <td>MIÉRCOLES</td>\n",
       "      <td>2020</td>\n",
       "      <td>Choque</td>\n",
       "      <td>CL 10 A CR 41</td>\n",
       "      <td>CL  010 A   041  000 00000</td>\n",
       "      <td>...</td>\n",
       "      <td>El Poblado</td>\n",
       "      <td>Tramo de via</td>\n",
       "      <td>7</td>\n",
       "      <td>1</td>\n",
       "      <td>2020/07/01 00:00:00+00</td>\n",
       "      <td>JULIO</td>\n",
       "      <td>834977.94</td>\n",
       "      <td>1178769.85</td>\n",
       "      <td>-75.568507</td>\n",
       "      <td>6.210703</td>\n",
       "    </tr>\n",
       "    <tr>\n",
       "      <th>1</th>\n",
       "      <td>-75.558959</td>\n",
       "      <td>6.244545</td>\n",
       "      <td>2</td>\n",
       "      <td>1714151</td>\n",
       "      <td>11:30:00</td>\n",
       "      <td>VIERNES</td>\n",
       "      <td>2020</td>\n",
       "      <td>Choque</td>\n",
       "      <td>CR 38 CL 49 A</td>\n",
       "      <td>CR  038   049 A  000 00000</td>\n",
       "      <td>...</td>\n",
       "      <td>La Candelaria</td>\n",
       "      <td>Tramo de via</td>\n",
       "      <td>5</td>\n",
       "      <td>8</td>\n",
       "      <td>2020/05/08 00:00:00+00</td>\n",
       "      <td>MAYO</td>\n",
       "      <td>836034.83</td>\n",
       "      <td>1182513.26</td>\n",
       "      <td>-75.558959</td>\n",
       "      <td>6.244545</td>\n",
       "    </tr>\n",
       "    <tr>\n",
       "      <th>2</th>\n",
       "      <td>-75.575041</td>\n",
       "      <td>6.253081</td>\n",
       "      <td>3</td>\n",
       "      <td>1727015</td>\n",
       "      <td>08:25:00</td>\n",
       "      <td>LUNES</td>\n",
       "      <td>2020</td>\n",
       "      <td>Otro</td>\n",
       "      <td>CR 57 CL 51</td>\n",
       "      <td>CR  057   051  000 00000</td>\n",
       "      <td>...</td>\n",
       "      <td>La Candelaria</td>\n",
       "      <td>Tramo de via</td>\n",
       "      <td>10</td>\n",
       "      <td>19</td>\n",
       "      <td>2020/10/19 00:00:00+00</td>\n",
       "      <td>OCTUBRE</td>\n",
       "      <td>834254.74</td>\n",
       "      <td>1183457.46</td>\n",
       "      <td>-75.575041</td>\n",
       "      <td>6.253081</td>\n",
       "    </tr>\n",
       "  </tbody>\n",
       "</table>\n",
       "<p>3 rows × 25 columns</p>\n",
       "</div>"
      ],
      "text/plain": [
       "           X         Y  OBJECTID  RADICADO      HORA DIA_NOMBRE  PERIODO  \\\n",
       "0 -75.568507  6.210703         1   1717722  01:35:00  MIÉRCOLES     2020   \n",
       "1 -75.558959  6.244545         2   1714151  11:30:00  VIERNES       2020   \n",
       "2 -75.575041  6.253081         3   1727015  08:25:00  LUNES         2020   \n",
       "\n",
       "    CLASE      DIRECCION               DIRECCION_ENC  ...         COMUNA  \\\n",
       "0  Choque  CL 10 A CR 41  CL  010 A   041  000 00000  ...     El Poblado   \n",
       "1  Choque  CR 38 CL 49 A  CR  038   049 A  000 00000  ...  La Candelaria   \n",
       "2    Otro    CR 57 CL 51    CR  057   051  000 00000  ...  La Candelaria   \n",
       "\n",
       "         DISENO MES DIA                   FECHA  MES_NOMBRE X_MAGNAMED  \\\n",
       "0  Tramo de via   7   1  2020/07/01 00:00:00+00  JULIO       834977.94   \n",
       "1  Tramo de via   5   8  2020/05/08 00:00:00+00  MAYO        836034.83   \n",
       "2  Tramo de via  10  19  2020/10/19 00:00:00+00  OCTUBRE     834254.74   \n",
       "\n",
       "   Y_MAGNAMED   LONGITUD   LATITUD  \n",
       "0  1178769.85 -75.568507  6.210703  \n",
       "1  1182513.26 -75.558959  6.244545  \n",
       "2  1183457.46 -75.575041  6.253081  \n",
       "\n",
       "[3 rows x 25 columns]"
      ]
     },
     "execution_count": 3,
     "metadata": {},
     "output_type": "execute_result"
    }
   ],
   "source": [
    "crash_2020.head(3)"
   ]
  },
  {
   "cell_type": "code",
   "execution_count": 4,
   "id": "5bf5505f",
   "metadata": {},
   "outputs": [
    {
     "data": {
      "text/html": [
       "<div>\n",
       "<style scoped>\n",
       "    .dataframe tbody tr th:only-of-type {\n",
       "        vertical-align: middle;\n",
       "    }\n",
       "\n",
       "    .dataframe tbody tr th {\n",
       "        vertical-align: top;\n",
       "    }\n",
       "\n",
       "    .dataframe thead th {\n",
       "        text-align: right;\n",
       "    }\n",
       "</style>\n",
       "<table border=\"1\" class=\"dataframe\">\n",
       "  <thead>\n",
       "    <tr style=\"text-align: right;\">\n",
       "      <th></th>\n",
       "      <th>X</th>\n",
       "      <th>Y</th>\n",
       "      <th>objectid</th>\n",
       "      <th>radicado</th>\n",
       "      <th>hora</th>\n",
       "      <th>dia_nombre</th>\n",
       "      <th>periodo</th>\n",
       "      <th>clase</th>\n",
       "      <th>direccion</th>\n",
       "      <th>direccion_enc</th>\n",
       "      <th>...</th>\n",
       "      <th>comuna</th>\n",
       "      <th>diseno</th>\n",
       "      <th>mes</th>\n",
       "      <th>dia</th>\n",
       "      <th>fecha</th>\n",
       "      <th>mes_nombre</th>\n",
       "      <th>x_magnamed</th>\n",
       "      <th>y_magnamed</th>\n",
       "      <th>longitud</th>\n",
       "      <th>latitud</th>\n",
       "    </tr>\n",
       "  </thead>\n",
       "  <tbody>\n",
       "    <tr>\n",
       "      <th>0</th>\n",
       "      <td>-75.561546</td>\n",
       "      <td>6.272349</td>\n",
       "      <td>1</td>\n",
       "      <td>1734446</td>\n",
       "      <td>14:40:00</td>\n",
       "      <td>VIERNES</td>\n",
       "      <td>2021</td>\n",
       "      <td>Choque</td>\n",
       "      <td>CLL 78 CRA 50C 02</td>\n",
       "      <td>CL  078   050 C  000 00000</td>\n",
       "      <td>...</td>\n",
       "      <td>Aranjuez</td>\n",
       "      <td>Tramo de via</td>\n",
       "      <td>1</td>\n",
       "      <td>1</td>\n",
       "      <td>2021/01/01 00:00:00+00</td>\n",
       "      <td>ENERO</td>\n",
       "      <td>835748.42</td>\n",
       "      <td>1185588.76</td>\n",
       "      <td>-75.561546</td>\n",
       "      <td>6.272349</td>\n",
       "    </tr>\n",
       "    <tr>\n",
       "      <th>1</th>\n",
       "      <td>-75.561838</td>\n",
       "      <td>6.236723</td>\n",
       "      <td>2</td>\n",
       "      <td>1734392</td>\n",
       "      <td>05:25:00</td>\n",
       "      <td>VIERNES</td>\n",
       "      <td>2021</td>\n",
       "      <td>Choque</td>\n",
       "      <td>CR 36 39 47</td>\n",
       "      <td>CR  036   039  000 00000</td>\n",
       "      <td>...</td>\n",
       "      <td>Buenos Aires</td>\n",
       "      <td>Tramo de via</td>\n",
       "      <td>1</td>\n",
       "      <td>1</td>\n",
       "      <td>2021/01/01 00:00:00+00</td>\n",
       "      <td>ENERO</td>\n",
       "      <td>835716.16</td>\n",
       "      <td>1181648.07</td>\n",
       "      <td>-75.561838</td>\n",
       "      <td>6.236723</td>\n",
       "    </tr>\n",
       "    <tr>\n",
       "      <th>2</th>\n",
       "      <td>-75.564790</td>\n",
       "      <td>6.280457</td>\n",
       "      <td>3</td>\n",
       "      <td>1734448</td>\n",
       "      <td>10:20:00</td>\n",
       "      <td>VIERNES</td>\n",
       "      <td>2021</td>\n",
       "      <td>Choque</td>\n",
       "      <td>CLL 88 CRA 52C 28</td>\n",
       "      <td>CL  088   052 C  000 00000</td>\n",
       "      <td>...</td>\n",
       "      <td>Aranjuez</td>\n",
       "      <td>Tramo de via</td>\n",
       "      <td>1</td>\n",
       "      <td>1</td>\n",
       "      <td>2021/01/01 00:00:00+00</td>\n",
       "      <td>ENERO</td>\n",
       "      <td>835389.34</td>\n",
       "      <td>1186485.60</td>\n",
       "      <td>-75.564790</td>\n",
       "      <td>6.280457</td>\n",
       "    </tr>\n",
       "  </tbody>\n",
       "</table>\n",
       "<p>3 rows × 25 columns</p>\n",
       "</div>"
      ],
      "text/plain": [
       "           X         Y  objectid  radicado      hora dia_nombre  periodo  \\\n",
       "0 -75.561546  6.272349         1   1734446  14:40:00  VIERNES       2021   \n",
       "1 -75.561838  6.236723         2   1734392  05:25:00  VIERNES       2021   \n",
       "2 -75.564790  6.280457         3   1734448  10:20:00  VIERNES       2021   \n",
       "\n",
       "    clase          direccion               direccion_enc  ...        comuna  \\\n",
       "0  Choque  CLL 78 CRA 50C 02  CL  078   050 C  000 00000  ...      Aranjuez   \n",
       "1  Choque        CR 36 39 47    CR  036   039  000 00000  ...  Buenos Aires   \n",
       "2  Choque  CLL 88 CRA 52C 28  CL  088   052 C  000 00000  ...      Aranjuez   \n",
       "\n",
       "         diseno mes dia                   fecha  mes_nombre x_magnamed  \\\n",
       "0  Tramo de via   1   1  2021/01/01 00:00:00+00  ENERO       835748.42   \n",
       "1  Tramo de via   1   1  2021/01/01 00:00:00+00  ENERO       835716.16   \n",
       "2  Tramo de via   1   1  2021/01/01 00:00:00+00  ENERO       835389.34   \n",
       "\n",
       "   y_magnamed   longitud   latitud  \n",
       "0  1185588.76 -75.561546  6.272349  \n",
       "1  1181648.07 -75.561838  6.236723  \n",
       "2  1186485.60 -75.564790  6.280457  \n",
       "\n",
       "[3 rows x 25 columns]"
      ]
     },
     "execution_count": 4,
     "metadata": {},
     "output_type": "execute_result"
    }
   ],
   "source": [
    "crash_2021.head(3)"
   ]
  },
  {
   "cell_type": "code",
   "execution_count": 5,
   "id": "039ae2b2",
   "metadata": {},
   "outputs": [
    {
     "data": {
      "text/html": [
       "<div>\n",
       "<style scoped>\n",
       "    .dataframe tbody tr th:only-of-type {\n",
       "        vertical-align: middle;\n",
       "    }\n",
       "\n",
       "    .dataframe tbody tr th {\n",
       "        vertical-align: top;\n",
       "    }\n",
       "\n",
       "    .dataframe thead th {\n",
       "        text-align: right;\n",
       "    }\n",
       "</style>\n",
       "<table border=\"1\" class=\"dataframe\">\n",
       "  <thead>\n",
       "    <tr style=\"text-align: right;\">\n",
       "      <th></th>\n",
       "      <th>X</th>\n",
       "      <th>Y</th>\n",
       "      <th>OBJECTID</th>\n",
       "      <th>RADICADO</th>\n",
       "      <th>HORA</th>\n",
       "      <th>DIA_NOMBRE</th>\n",
       "      <th>PERIODO</th>\n",
       "      <th>CLASE</th>\n",
       "      <th>DIRECCION</th>\n",
       "      <th>DIRECCION_ENC</th>\n",
       "      <th>...</th>\n",
       "      <th>COMUNA</th>\n",
       "      <th>DISENO</th>\n",
       "      <th>MES</th>\n",
       "      <th>DIA</th>\n",
       "      <th>FECHA</th>\n",
       "      <th>MES_NOMBRE</th>\n",
       "      <th>X_MAGNAMED</th>\n",
       "      <th>Y_MAGNAMED</th>\n",
       "      <th>LONGITUD</th>\n",
       "      <th>LATITUD</th>\n",
       "    </tr>\n",
       "  </thead>\n",
       "  <tbody>\n",
       "    <tr>\n",
       "      <th>0</th>\n",
       "      <td>-75.592351</td>\n",
       "      <td>6.243512</td>\n",
       "      <td>1</td>\n",
       "      <td>1783170</td>\n",
       "      <td>08:05:00</td>\n",
       "      <td>MIÉRCOLES</td>\n",
       "      <td>2022</td>\n",
       "      <td>Choque</td>\n",
       "      <td>Circular 2 Con Carrera 74</td>\n",
       "      <td>CQ  002   074  000 00000</td>\n",
       "      <td>...</td>\n",
       "      <td>Laureles Estadio</td>\n",
       "      <td>Interseccion</td>\n",
       "      <td>3</td>\n",
       "      <td>16</td>\n",
       "      <td>2022/03/16 00:00:00+00</td>\n",
       "      <td>MARZO</td>\n",
       "      <td>832338.65</td>\n",
       "      <td>1182399.08</td>\n",
       "      <td>-75.592351</td>\n",
       "      <td>6.243512</td>\n",
       "    </tr>\n",
       "    <tr>\n",
       "      <th>1</th>\n",
       "      <td>-75.579832</td>\n",
       "      <td>6.230514</td>\n",
       "      <td>2</td>\n",
       "      <td>1783476</td>\n",
       "      <td>17:30:00</td>\n",
       "      <td>MIÉRCOLES</td>\n",
       "      <td>2022</td>\n",
       "      <td>Choque</td>\n",
       "      <td>Carrera 55 Con Calle 29 C</td>\n",
       "      <td>CR  055   029 C  000 00000</td>\n",
       "      <td>...</td>\n",
       "      <td>Guayabal</td>\n",
       "      <td>Interseccion</td>\n",
       "      <td>3</td>\n",
       "      <td>16</td>\n",
       "      <td>2022/03/16 00:00:00+00</td>\n",
       "      <td>MARZO</td>\n",
       "      <td>833724.32</td>\n",
       "      <td>1180961.28</td>\n",
       "      <td>-75.579832</td>\n",
       "      <td>6.230514</td>\n",
       "    </tr>\n",
       "    <tr>\n",
       "      <th>2</th>\n",
       "      <td>-75.599001</td>\n",
       "      <td>6.269136</td>\n",
       "      <td>3</td>\n",
       "      <td>1789709</td>\n",
       "      <td>17:00:00</td>\n",
       "      <td>MIÉRCOLES</td>\n",
       "      <td>2022</td>\n",
       "      <td>Choque</td>\n",
       "      <td>Calle 54 Con Carrera 83</td>\n",
       "      <td>CL  054   083  000 00000</td>\n",
       "      <td>...</td>\n",
       "      <td>San Javier</td>\n",
       "      <td>Interseccion</td>\n",
       "      <td>5</td>\n",
       "      <td>4</td>\n",
       "      <td>2022/05/04 00:00:00+00</td>\n",
       "      <td>MAYO</td>\n",
       "      <td>831602.70</td>\n",
       "      <td>1185233.45</td>\n",
       "      <td>-75.599001</td>\n",
       "      <td>6.269136</td>\n",
       "    </tr>\n",
       "  </tbody>\n",
       "</table>\n",
       "<p>3 rows × 25 columns</p>\n",
       "</div>"
      ],
      "text/plain": [
       "           X         Y  OBJECTID  RADICADO      HORA DIA_NOMBRE  PERIODO  \\\n",
       "0 -75.592351  6.243512         1   1783170  08:05:00  MIÉRCOLES     2022   \n",
       "1 -75.579832  6.230514         2   1783476  17:30:00  MIÉRCOLES     2022   \n",
       "2 -75.599001  6.269136         3   1789709  17:00:00  MIÉRCOLES     2022   \n",
       "\n",
       "    CLASE                  DIRECCION               DIRECCION_ENC  ...  \\\n",
       "0  Choque  Circular 2 Con Carrera 74    CQ  002   074  000 00000  ...   \n",
       "1  Choque  Carrera 55 Con Calle 29 C  CR  055   029 C  000 00000  ...   \n",
       "2  Choque    Calle 54 Con Carrera 83    CL  054   083  000 00000  ...   \n",
       "\n",
       "             COMUNA        DISENO MES DIA                   FECHA  MES_NOMBRE  \\\n",
       "0  Laureles Estadio  Interseccion   3  16  2022/03/16 00:00:00+00  MARZO        \n",
       "1          Guayabal  Interseccion   3  16  2022/03/16 00:00:00+00  MARZO        \n",
       "2        San Javier  Interseccion   5   4  2022/05/04 00:00:00+00  MAYO         \n",
       "\n",
       "  X_MAGNAMED  Y_MAGNAMED   LONGITUD   LATITUD  \n",
       "0  832338.65  1182399.08 -75.592351  6.243512  \n",
       "1  833724.32  1180961.28 -75.579832  6.230514  \n",
       "2  831602.70  1185233.45 -75.599001  6.269136  \n",
       "\n",
       "[3 rows x 25 columns]"
      ]
     },
     "execution_count": 5,
     "metadata": {},
     "output_type": "execute_result"
    }
   ],
   "source": [
    "crash_2022.head(3)"
   ]
  },
  {
   "cell_type": "markdown",
   "id": "da679e72",
   "metadata": {},
   "source": [
    "Converting all column names into upper case"
   ]
  },
  {
   "cell_type": "code",
   "execution_count": 6,
   "id": "fd1f321e",
   "metadata": {},
   "outputs": [],
   "source": [
    "crash_2020 = crash_2020.rename(columns=lambda x: x.upper())\n",
    "crash_2021 = crash_2021.rename(columns=lambda x: x.upper())\n",
    "crash_2022 = crash_2022.rename(columns=lambda x: x.upper())"
   ]
  },
  {
   "cell_type": "markdown",
   "id": "1d5b754a",
   "metadata": {},
   "source": [
    "Checking if the three data set have the same columns"
   ]
  },
  {
   "cell_type": "code",
   "execution_count": 7,
   "id": "a1bbde72",
   "metadata": {},
   "outputs": [
    {
     "name": "stdout",
     "output_type": "stream",
     "text": [
      "All data sets have the same number of columns\n",
      "\n",
      "All data sets have the same columns\n"
     ]
    }
   ],
   "source": [
    "columns_2020 = set(crash_2020.columns)\n",
    "columns_2021 = set(crash_2021.columns)\n",
    "columns_2022 = set(crash_2022.columns)\n",
    "\n",
    "# Check if all dataframes have the same number of columns\n",
    "if len(columns_2020) == len(columns_2021) == len(columns_2022):\n",
    "    print(\"All data sets have the same number of columns\")\n",
    "else:\n",
    "    print(\"One data set has a different number of colums\")\n",
    "\n",
    "# Check if all dataframes have the same columns\n",
    "if columns_2020 == columns_2021 == columns_2022:\n",
    "    print(\"\\nAll data sets have the same columns\")\n",
    "else:\n",
    "    print(\"\\nDataframes have different columns\")"
   ]
  },
  {
   "cell_type": "markdown",
   "id": "4383f5dd",
   "metadata": {},
   "source": [
    "## Concatenate all data sets into a single one"
   ]
  },
  {
   "cell_type": "code",
   "execution_count": 8,
   "id": "7bba4189",
   "metadata": {},
   "outputs": [],
   "source": [
    "crashes_2020to2022 = pd.concat([crash_2020, crash_2021, crash_2022])\n",
    "crashes_2020to2022 = crashes_2020to2022.reset_index(drop=True)"
   ]
  },
  {
   "cell_type": "code",
   "execution_count": 9,
   "id": "410833e5",
   "metadata": {},
   "outputs": [
    {
     "name": "stdout",
     "output_type": "stream",
     "text": [
      "2397900\n"
     ]
    },
    {
     "data": {
      "text/plain": [
       "2397900"
      ]
     },
     "execution_count": 9,
     "metadata": {},
     "output_type": "execute_result"
    }
   ],
   "source": [
    "# Checking if cancatenate was successfully\n",
    "print(crash_2020.size + crash_2021.size + crash_2022.size)\n",
    "crashes_2020to2022.size"
   ]
  },
  {
   "cell_type": "markdown",
   "id": "cb2a80d8",
   "metadata": {},
   "source": [
    "## Dropping useless columns"
   ]
  },
  {
   "cell_type": "markdown",
   "id": "61cc9bf1",
   "metadata": {},
   "source": [
    "Because DIRECCION and DIRECCION_ENC have the same information (stree name and stree number), lets drop DIRECCION_ENC"
   ]
  },
  {
   "cell_type": "code",
   "execution_count": 10,
   "id": "cbbed4f1",
   "metadata": {},
   "outputs": [
    {
     "data": {
      "text/plain": [
       "['X',\n",
       " 'Y',\n",
       " 'OBJECTID',\n",
       " 'RADICADO',\n",
       " 'HORA',\n",
       " 'DIA_NOMBRE',\n",
       " 'PERIODO',\n",
       " 'CLASE',\n",
       " 'DIRECCION',\n",
       " 'CBML',\n",
       " 'TIPO_GEOCOD',\n",
       " 'EXPEDIENTE',\n",
       " 'GRAVEDAD',\n",
       " 'BARRIO',\n",
       " 'COMUNA',\n",
       " 'DISENO',\n",
       " 'MES',\n",
       " 'DIA',\n",
       " 'FECHA',\n",
       " 'MES_NOMBRE',\n",
       " 'X_MAGNAMED',\n",
       " 'Y_MAGNAMED',\n",
       " 'LONGITUD',\n",
       " 'LATITUD']"
      ]
     },
     "execution_count": 10,
     "metadata": {},
     "output_type": "execute_result"
    }
   ],
   "source": [
    "crashes_2020to2022.drop(columns='DIRECCION_ENC', inplace=True)\n",
    "crashes_2020to2022.columns.to_list()"
   ]
  },
  {
   "cell_type": "markdown",
   "id": "1a94d260",
   "metadata": {},
   "source": [
    "Doing for X, Y and LATITUD and LONGITUD columns"
   ]
  },
  {
   "cell_type": "code",
   "execution_count": 11,
   "id": "f6b0d73d",
   "metadata": {},
   "outputs": [
    {
     "data": {
      "text/html": [
       "<div>\n",
       "<style scoped>\n",
       "    .dataframe tbody tr th:only-of-type {\n",
       "        vertical-align: middle;\n",
       "    }\n",
       "\n",
       "    .dataframe tbody tr th {\n",
       "        vertical-align: top;\n",
       "    }\n",
       "\n",
       "    .dataframe thead th {\n",
       "        text-align: right;\n",
       "    }\n",
       "</style>\n",
       "<table border=\"1\" class=\"dataframe\">\n",
       "  <thead>\n",
       "    <tr style=\"text-align: right;\">\n",
       "      <th></th>\n",
       "      <th>X</th>\n",
       "      <th>Y</th>\n",
       "      <th>LONGITUD</th>\n",
       "      <th>LATITUD</th>\n",
       "    </tr>\n",
       "  </thead>\n",
       "  <tbody>\n",
       "    <tr>\n",
       "      <th>0</th>\n",
       "      <td>-75568506</td>\n",
       "      <td>6210702</td>\n",
       "      <td>-75568506</td>\n",
       "      <td>6210702</td>\n",
       "    </tr>\n",
       "    <tr>\n",
       "      <th>1</th>\n",
       "      <td>-75558958</td>\n",
       "      <td>6244544</td>\n",
       "      <td>-75558958</td>\n",
       "      <td>6244544</td>\n",
       "    </tr>\n",
       "  </tbody>\n",
       "</table>\n",
       "</div>"
      ],
      "text/plain": [
       "          X        Y  LONGITUD  LATITUD\n",
       "0 -75568506  6210702 -75568506  6210702\n",
       "1 -75558958  6244544 -75558958  6244544"
      ]
     },
     "execution_count": 11,
     "metadata": {},
     "output_type": "execute_result"
    }
   ],
   "source": [
    "# \"Rounded\" to int, taking into the account the first 6 figures\n",
    "tmp_crashes = crashes_2020to2022[['X', 'Y', 'LONGITUD', 'LATITUD']].copy()\n",
    "\n",
    "#\n",
    "tmp_crashes['X'] = (tmp_crashes['X'] * 1e6).astype(int)\n",
    "tmp_crashes['LONGITUD'] = (tmp_crashes['LONGITUD'] * 1e6).astype(int)\n",
    "#\n",
    "tmp_crashes['Y'] = (tmp_crashes['Y'] * 1e6).astype(int)\n",
    "tmp_crashes['LATITUD'] = (tmp_crashes['LATITUD'] * 1e6).astype(int)\n",
    "#\n",
    "tmp_crashes.head(2)"
   ]
  },
  {
   "cell_type": "code",
   "execution_count": 12,
   "id": "4b8c16c4",
   "metadata": {},
   "outputs": [
    {
     "name": "stdout",
     "output_type": "stream",
     "text": [
      "X is not the same information as LONGITUD, Needs fix\n",
      "Difference hist: 1    362\n",
      "Name: diff, dtype: int64\n",
      "Y is not the same information as LATITUD, Needs fix\n",
      "Difference hist: -1    422\n",
      "Name: diff, dtype: int64\n"
     ]
    }
   ],
   "source": [
    "mask_x = tmp_crashes['X'] != tmp_crashes['LONGITUD']\n",
    "mask_y = tmp_crashes['Y'] != tmp_crashes['LATITUD']\n",
    "\n",
    "diff_rows_x = tmp_crashes[mask_x].copy()\n",
    "diff_rows_y = tmp_crashes[mask_y].copy()\n",
    "\n",
    "diff_rows_x['diff'] = diff_rows_x['X'] - diff_rows_x['LONGITUD']\n",
    "diff_rows_y['diff'] = diff_rows_y['Y'] - diff_rows_y['LATITUD']\n",
    "\n",
    "if diff_rows_x.empty:\n",
    "    print(\"X is the same information as LONGITUD\")\n",
    "    crashes_2020to2022.drop(columns='X')\n",
    "else:\n",
    "    print(\"X is not the same information as LONGITUD, Needs fix\")        \n",
    "    print(\"Difference hist:\", diff_rows_x['diff'].value_counts())\n",
    "\n",
    "if diff_rows_y.empty:\n",
    "    print(\"Y is the same information as LATITUD\")\n",
    "    crashes_2020to2022.drop(columns='Y')\n",
    "else:\n",
    "    print(\"Y is not the same information as LATITUD, Needs fix\")\n",
    "    print(\"Difference hist:\", diff_rows_y['diff'].value_counts())"
   ]
  },
  {
   "cell_type": "markdown",
   "id": "3d7f7313",
   "metadata": {},
   "source": [
    "So, because the difference is just at the last significant figure, let's drop X and Y and keep LONGITUD and LATITUD, which meka more sense."
   ]
  },
  {
   "cell_type": "code",
   "execution_count": 13,
   "id": "85f47f7d",
   "metadata": {},
   "outputs": [
    {
     "data": {
      "text/plain": [
       "['OBJECTID',\n",
       " 'RADICADO',\n",
       " 'HORA',\n",
       " 'DIA_NOMBRE',\n",
       " 'PERIODO',\n",
       " 'CLASE',\n",
       " 'DIRECCION',\n",
       " 'CBML',\n",
       " 'TIPO_GEOCOD',\n",
       " 'EXPEDIENTE',\n",
       " 'GRAVEDAD',\n",
       " 'BARRIO',\n",
       " 'COMUNA',\n",
       " 'DISENO',\n",
       " 'MES',\n",
       " 'DIA',\n",
       " 'FECHA',\n",
       " 'MES_NOMBRE',\n",
       " 'X_MAGNAMED',\n",
       " 'Y_MAGNAMED',\n",
       " 'LONGITUD',\n",
       " 'LATITUD']"
      ]
     },
     "execution_count": 13,
     "metadata": {},
     "output_type": "execute_result"
    }
   ],
   "source": [
    "crashes_2020to2022.drop(columns=['X', 'Y'], inplace=True)\n",
    "crashes_2020to2022.columns.to_list()"
   ]
  },
  {
   "cell_type": "markdown",
   "id": "7692851a",
   "metadata": {},
   "source": [
    "Let's drop OBJECTID, RADICADO, CBML, EXPEDIENTE, X_MAGNAMED, and Y_MAGNAMED"
   ]
  },
  {
   "cell_type": "code",
   "execution_count": 14,
   "id": "65b35fac",
   "metadata": {},
   "outputs": [
    {
     "data": {
      "text/plain": [
       "['HORA',\n",
       " 'DIA_NOMBRE',\n",
       " 'PERIODO',\n",
       " 'CLASE',\n",
       " 'DIRECCION',\n",
       " 'TIPO_GEOCOD',\n",
       " 'GRAVEDAD',\n",
       " 'BARRIO',\n",
       " 'COMUNA',\n",
       " 'DISENO',\n",
       " 'MES',\n",
       " 'DIA',\n",
       " 'FECHA',\n",
       " 'MES_NOMBRE',\n",
       " 'LONGITUD',\n",
       " 'LATITUD']"
      ]
     },
     "execution_count": 14,
     "metadata": {},
     "output_type": "execute_result"
    }
   ],
   "source": [
    "crashes_2020to2022.drop(columns=['OBJECTID', 'RADICADO', 'CBML', 'EXPEDIENTE', 'X_MAGNAMED', 'Y_MAGNAMED'], inplace=True)\n",
    "crashes_2020to2022.columns.to_list()"
   ]
  },
  {
   "cell_type": "markdown",
   "id": "dc2e36fa",
   "metadata": {},
   "source": [
    "## Checking for NaN values"
   ]
  },
  {
   "cell_type": "code",
   "execution_count": 15,
   "id": "f0fd3048",
   "metadata": {},
   "outputs": [
    {
     "data": {
      "text/plain": [
       "HORA              0\n",
       "DIA_NOMBRE        0\n",
       "PERIODO           0\n",
       "CLASE             0\n",
       "DIRECCION         0\n",
       "TIPO_GEOCOD       0\n",
       "GRAVEDAD          0\n",
       "BARRIO         2348\n",
       "COMUNA         1997\n",
       "DISENO            0\n",
       "MES               0\n",
       "DIA               0\n",
       "FECHA             0\n",
       "MES_NOMBRE        0\n",
       "LONGITUD          0\n",
       "LATITUD           0\n",
       "dtype: int64"
      ]
     },
     "execution_count": 15,
     "metadata": {},
     "output_type": "execute_result"
    }
   ],
   "source": [
    "crashes_2020to2022.isna().sum()"
   ]
  },
  {
   "cell_type": "code",
   "execution_count": 16,
   "id": "8ea9a2d0",
   "metadata": {},
   "outputs": [
    {
     "name": "stdout",
     "output_type": "stream",
     "text": [
      "HORA                         03:10:00\n",
      "DIA_NOMBRE                  DOMINGO  \n",
      "PERIODO                          2020\n",
      "CLASE                          Choque\n",
      "DIRECCION               CR 75 CL 71 A\n",
      "TIPO_GEOCOD                No Ubicada\n",
      "GRAVEDAD                   SOLO DAÑOS\n",
      "BARRIO                            NaN\n",
      "COMUNA                            NaN\n",
      "DISENO                   Tramo de via\n",
      "MES                                12\n",
      "DIA                                 6\n",
      "FECHA          2020/12/06 00:00:00+00\n",
      "MES_NOMBRE                 DICIEMBRE \n",
      "LONGITUD                   -75.703816\n",
      "LATITUD                      6.221806\n",
      "Name: 114, dtype: object\n",
      "\n",
      "\n",
      "\n",
      "HORA                         07:00:00\n",
      "DIA_NOMBRE                  MIÉRCOLES\n",
      "PERIODO                          2020\n",
      "CLASE                       Atropello\n",
      "DIRECCION                 CR 73 CL 69\n",
      "TIPO_GEOCOD                No Ubicada\n",
      "GRAVEDAD                  CON HERIDOS\n",
      "BARRIO                            NaN\n",
      "COMUNA                        Sin Inf\n",
      "DISENO                   Tramo de via\n",
      "MES                                 9\n",
      "DIA                                30\n",
      "FECHA          2020/09/30 00:00:00+00\n",
      "MES_NOMBRE                 SEPTIEMBRE\n",
      "LONGITUD                   -75.703816\n",
      "LATITUD                      6.221806\n",
      "Name: 554, dtype: object\n"
     ]
    }
   ],
   "source": [
    "non_string_comuna = crashes_2020to2022.loc[~crashes_2020to2022['COMUNA'].apply(lambda x: isinstance(x, str))].index\n",
    "non_string_barrio = crashes_2020to2022.loc[~crashes_2020to2022['BARRIO'].apply(lambda x: isinstance(x, str))].index\n",
    "\n",
    "print(crashes_2020to2022.iloc[non_string_comuna[0]])\n",
    "print(\"\\n\\n\")\n",
    "print(crashes_2020to2022.iloc[non_string_barrio[10]])"
   ]
  },
  {
   "cell_type": "markdown",
   "id": "7202c677",
   "metadata": {},
   "source": [
    "So, let's split crashes_2020to2022 into two dataframe, one without BARRIO and COMUNA info, and one with the correct values for this information "
   ]
  },
  {
   "cell_type": "code",
   "execution_count": 17,
   "id": "65aaf73e",
   "metadata": {},
   "outputs": [
    {
     "data": {
      "text/plain": [
       "['HORA',\n",
       " 'DIA_NOMBRE',\n",
       " 'PERIODO',\n",
       " 'CLASE',\n",
       " 'DIRECCION',\n",
       " 'TIPO_GEOCOD',\n",
       " 'GRAVEDAD',\n",
       " 'DISENO',\n",
       " 'MES',\n",
       " 'DIA',\n",
       " 'FECHA',\n",
       " 'MES_NOMBRE',\n",
       " 'LONGITUD',\n",
       " 'LATITUD']"
      ]
     },
     "execution_count": 17,
     "metadata": {},
     "output_type": "execute_result"
    }
   ],
   "source": [
    "crashes_2020to2022_neightborhood = crashes_2020to2022[(crashes_2020to2022['BARRIO'] == '') & (crashes_2020to2022['COMUNA'] == '')].copy()\n",
    "crashes_2020to2022.drop(columns=['BARRIO', 'COMUNA'], inplace=True)\n",
    "\n",
    "crashes_2020to2022.columns.to_list()"
   ]
  },
  {
   "cell_type": "markdown",
   "id": "c47bad8e",
   "metadata": {},
   "source": [
    "## Applying profile "
   ]
  },
  {
   "cell_type": "code",
   "execution_count": 18,
   "id": "b4a38555",
   "metadata": {},
   "outputs": [],
   "source": [
    "profile = ProfileReport(crashes_2020to2022, title=\"Car crashes on Medellin city (from 2020 to 2022)\")\n",
    "\n",
    "crashes_2020to2022.to_csv('data/crashes_georef_2020_to_2022.csv', index=False)"
   ]
  },
  {
   "cell_type": "code",
   "execution_count": 19,
   "id": "98c89a18",
   "metadata": {},
   "outputs": [
    {
     "data": {
      "application/vnd.jupyter.widget-view+json": {
       "model_id": "737ccf3b118943c187737fcdc69d3db9",
       "version_major": 2,
       "version_minor": 0
      },
      "text/plain": [
       "Summarize dataset:   0%|          | 0/5 [00:00<?, ?it/s]"
      ]
     },
     "metadata": {},
     "output_type": "display_data"
    },
    {
     "data": {
      "application/vnd.jupyter.widget-view+json": {
       "model_id": "603247ba508d40d8b1323606e006d7f1",
       "version_major": 2,
       "version_minor": 0
      },
      "text/plain": [
       "Generate report structure:   0%|          | 0/1 [00:00<?, ?it/s]"
      ]
     },
     "metadata": {},
     "output_type": "display_data"
    },
    {
     "data": {
      "application/vnd.jupyter.widget-view+json": {
       "model_id": "d255204860964d3d843a92096db156bc",
       "version_major": 2,
       "version_minor": 0
      },
      "text/plain": [
       "Render HTML:   0%|          | 0/1 [00:00<?, ?it/s]"
      ]
     },
     "metadata": {},
     "output_type": "display_data"
    },
    {
     "data": {
      "application/vnd.jupyter.widget-view+json": {
       "model_id": "7a7bdc63750d4d188f4596cff00549b8",
       "version_major": 2,
       "version_minor": 0
      },
      "text/plain": [
       "Export report to file:   0%|          | 0/1 [00:00<?, ?it/s]"
      ]
     },
     "metadata": {},
     "output_type": "display_data"
    }
   ],
   "source": [
    "profile.to_file('report_crashes_medellin_2020_to_2022.html')"
   ]
  },
  {
   "cell_type": "code",
   "execution_count": null,
   "id": "3339098e",
   "metadata": {},
   "outputs": [],
   "source": []
  },
  {
   "cell_type": "code",
   "execution_count": null,
   "id": "1b36e82b",
   "metadata": {},
   "outputs": [],
   "source": []
  }
 ],
 "metadata": {
  "kernelspec": {
   "display_name": "Python 3",
   "language": "python",
   "name": "python3"
  },
  "language_info": {
   "codemirror_mode": {
    "name": "ipython",
    "version": 3
   },
   "file_extension": ".py",
   "mimetype": "text/x-python",
   "name": "python",
   "nbconvert_exporter": "python",
   "pygments_lexer": "ipython3",
   "version": "3.8.10"
  }
 },
 "nbformat": 4,
 "nbformat_minor": 5
}
